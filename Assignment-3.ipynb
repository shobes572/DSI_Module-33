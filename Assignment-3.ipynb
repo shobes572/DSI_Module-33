{
 "cells": [
  {
   "cell_type": "markdown",
   "metadata": {},
   "source": [
    "# Tensorflow and Keras\n",
    "\n",
    "### To complete this assignment, create a Jupyter notebook containing your solutions to the following tasks:\n",
    "\n",
    "1. In this task, you'll build an ANN and train and test it using the MNIST data. This ANN should consist of two hidden and one output layer. All hidden layers should be dense. The neuron sizes of the first layer and the second layer should be 32 and 16 respectively. Train this model 20 epochs and compare your train and test set performance with the example in the checkpoint. Is there any difference? If so, why?\n",
    "1. You'll also build an ANN in this task. This time, this ANN should have 5 hidden layers and 1 output layer. All the layers should be dense. The neuron numbers for the hidden layers should be 1024, 512, 256, 128 and 64. Train this model 20 epochs and test it using the same data from the previous task and compare your results. Is there any difference? If so, why?\n",
    "\n",
    "### Lib imports and data load"
   ]
  },
  {
   "cell_type": "code",
   "execution_count": 6,
   "metadata": {},
   "outputs": [],
   "source": [
    "import numpy as np\n",
    "import pandas as pd\n",
    "import matplotlib.pyplot as plt\n",
    "\n",
    "from tensorflow.keras.datasets import mnist\n",
    "from tensorflow.keras.utils import to_categorical\n",
    "from tensorflow.keras.models import Sequential \n",
    "from tensorflow.keras.layers import Dense"
   ]
  },
  {
   "cell_type": "code",
   "execution_count": 3,
   "metadata": {},
   "outputs": [
    {
     "name": "stdout",
     "output_type": "stream",
     "text": [
      "Downloading data from https://storage.googleapis.com/tensorflow/tf-keras-datasets/mnist.npz\n",
      "11493376/11490434 [==============================] - 1s 0us/step\n"
     ]
    }
   ],
   "source": [
    "(X_train, y_train), (X_test, y_test) = mnist.load_data()\n",
    "\n",
    "input_dim = 784  # 28*28\n",
    "output_dim = nb_classes = 10\n",
    "batch_size = 128\n",
    "\n",
    "X_train = X_train.reshape(60000, input_dim)\n",
    "X_test = X_test.reshape(10000, input_dim)\n",
    "X_train = X_train.astype('float32')\n",
    "X_test = X_test.astype('float32')\n",
    "X_train /= 255\n",
    "X_test /= 255\n",
    "\n",
    "Y_train = to_categorical(y_train, nb_classes)\n",
    "Y_test = to_categorical(y_test, nb_classes)"
   ]
  },
  {
   "cell_type": "markdown",
   "metadata": {},
   "source": [
    "### Model 1"
   ]
  },
  {
   "cell_type": "code",
   "execution_count": 10,
   "metadata": {},
   "outputs": [
    {
     "data": {
      "text/html": [
       "<div>\n",
       "<style scoped>\n",
       "    .dataframe tbody tr th:only-of-type {\n",
       "        vertical-align: middle;\n",
       "    }\n",
       "\n",
       "    .dataframe tbody tr th {\n",
       "        vertical-align: top;\n",
       "    }\n",
       "\n",
       "    .dataframe thead th {\n",
       "        text-align: right;\n",
       "    }\n",
       "</style>\n",
       "<table border=\"1\" class=\"dataframe\">\n",
       "  <thead>\n",
       "    <tr style=\"text-align: right;\">\n",
       "      <th></th>\n",
       "      <th>train-score</th>\n",
       "      <th>test-score</th>\n",
       "    </tr>\n",
       "  </thead>\n",
       "  <tbody>\n",
       "    <tr>\n",
       "      <th>loss-function: categorical_crossentropy</th>\n",
       "      <td>0.043095</td>\n",
       "      <td>0.108481</td>\n",
       "    </tr>\n",
       "    <tr>\n",
       "      <th>metrics: accuracy</th>\n",
       "      <td>0.986817</td>\n",
       "      <td>0.970500</td>\n",
       "    </tr>\n",
       "  </tbody>\n",
       "</table>\n",
       "</div>"
      ],
      "text/plain": [
       "                                         train-score  test-score\n",
       "loss-function: categorical_crossentropy     0.043095    0.108481\n",
       "metrics: accuracy                           0.986817    0.970500"
      ]
     },
     "metadata": {},
     "output_type": "display_data"
    }
   ],
   "source": [
    "model = Sequential()\n",
    "\n",
    "model.add(Dense(32, input_shape=(input_dim,), activation=\"relu\"))\n",
    "model.add(Dense(16, activation=\"relu\"))\n",
    "model.add(Dense(output_dim, activation=\"softmax\"))\n",
    "\n",
    "mtrcs = ['accuracy']\n",
    "loss_fn = 'categorical_crossentropy'\n",
    "model.compile(optimizer='adam', loss=loss_fn, metrics=mtrcs)\n",
    "model.fit(X_train, Y_train, batch_size=batch_size, epochs=20, verbose=0)\n",
    "\n",
    "train_score = model.evaluate(X_train, Y_train, verbose=0)\n",
    "test_score = model.evaluate(X_test, Y_test, verbose=0)\n",
    "\n",
    "scoredf = pd.DataFrame(index=[f\"loss-function: {loss_fn}\"] + [\"metrics: \" + i for i in mtrcs], \n",
    "                       columns=['train-score', 'test-score'])\n",
    "scoredf['train-score'] = train_score\n",
    "scoredf['test-score'] = test_score\n",
    "display(scoredf)"
   ]
  },
  {
   "cell_type": "markdown",
   "metadata": {},
   "source": [
    "### Model 2"
   ]
  },
  {
   "cell_type": "code",
   "execution_count": 11,
   "metadata": {},
   "outputs": [
    {
     "data": {
      "text/html": [
       "<div>\n",
       "<style scoped>\n",
       "    .dataframe tbody tr th:only-of-type {\n",
       "        vertical-align: middle;\n",
       "    }\n",
       "\n",
       "    .dataframe tbody tr th {\n",
       "        vertical-align: top;\n",
       "    }\n",
       "\n",
       "    .dataframe thead th {\n",
       "        text-align: right;\n",
       "    }\n",
       "</style>\n",
       "<table border=\"1\" class=\"dataframe\">\n",
       "  <thead>\n",
       "    <tr style=\"text-align: right;\">\n",
       "      <th></th>\n",
       "      <th>train-score</th>\n",
       "      <th>test-score</th>\n",
       "    </tr>\n",
       "  </thead>\n",
       "  <tbody>\n",
       "    <tr>\n",
       "      <th>loss-function: categorical_crossentropy</th>\n",
       "      <td>0.010125</td>\n",
       "      <td>0.077486</td>\n",
       "    </tr>\n",
       "    <tr>\n",
       "      <th>metrics: accuracy</th>\n",
       "      <td>0.996900</td>\n",
       "      <td>0.982200</td>\n",
       "    </tr>\n",
       "  </tbody>\n",
       "</table>\n",
       "</div>"
      ],
      "text/plain": [
       "                                         train-score  test-score\n",
       "loss-function: categorical_crossentropy     0.010125    0.077486\n",
       "metrics: accuracy                           0.996900    0.982200"
      ]
     },
     "metadata": {},
     "output_type": "display_data"
    }
   ],
   "source": [
    "model = Sequential()\n",
    "\n",
    "model.add(Dense(1024, input_shape=(input_dim,), activation=\"relu\"))\n",
    "model.add(Dense(512, activation=\"relu\"))\n",
    "model.add(Dense(256, activation=\"relu\"))\n",
    "model.add(Dense(128, activation=\"relu\"))\n",
    "model.add(Dense(64, activation=\"relu\"))\n",
    "model.add(Dense(output_dim, activation=\"softmax\"))\n",
    "\n",
    "mtrcs = ['accuracy']\n",
    "loss_fn = 'categorical_crossentropy'\n",
    "model.compile(optimizer='adam', loss=loss_fn, metrics=mtrcs)\n",
    "model.fit(X_train, Y_train, batch_size=batch_size, epochs=20, verbose=0)\n",
    "\n",
    "train_score = model.evaluate(X_train, Y_train, verbose=0)\n",
    "test_score = model.evaluate(X_test, Y_test, verbose=0)\n",
    "\n",
    "scoredf = pd.DataFrame(index=[f\"loss-function: {loss_fn}\"] + [\"metrics: \" + i for i in mtrcs], \n",
    "                       columns=['train-score', 'test-score'])\n",
    "scoredf['train-score'] = train_score\n",
    "scoredf['test-score'] = test_score\n",
    "display(scoredf)"
   ]
  }
 ],
 "metadata": {
  "kernelspec": {
   "display_name": "Python 3",
   "language": "python",
   "name": "python3"
  },
  "language_info": {
   "codemirror_mode": {
    "name": "ipython",
    "version": 3
   },
   "file_extension": ".py",
   "mimetype": "text/x-python",
   "name": "python",
   "nbconvert_exporter": "python",
   "pygments_lexer": "ipython3",
   "version": "3.7.7"
  }
 },
 "nbformat": 4,
 "nbformat_minor": 2
}
