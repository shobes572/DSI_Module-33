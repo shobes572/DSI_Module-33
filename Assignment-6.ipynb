{
 "cells": [
  {
   "cell_type": "markdown",
   "metadata": {},
   "source": [
    "# Deep Learning Challenge\n",
    "\n",
    "### In this module, we introduced the basics of deep learning and the fundamental architecture of the artificial neural networks. During the examples in the checkpoints, we used a MNIST dataset. In this challenge, you'll work with another dataset called fashion MNIST. Using this dataset, you need to:\n",
    "\n",
    "1. Preprocess your data so that you can feed it into ANN models.\n",
    "1. Split your data into training and test sets.\n",
    "1. Try different ANN models and train them on your training set. You can play with: \n",
    "  1. Number of layers.\n",
    "  1. Activation functions of the layers.\n",
    "  1. Number of neurons in the layers.\n",
    "  1. Different batch sizes during training.\n",
    "1. Compare your models' training scores and interpret your results.\n",
    "1. Evaluate your models' performances on your test set. Compare the results of your models.\n",
    "\n",
    "### Lib imports and data load"
   ]
  },
  {
   "cell_type": "code",
   "execution_count": 10,
   "metadata": {},
   "outputs": [],
   "source": [
    "from tqdm.notebook import tqdm"
   ]
  },
  {
   "cell_type": "code",
   "execution_count": 1,
   "metadata": {},
   "outputs": [],
   "source": [
    "import numpy as np\n",
    "import pandas as pd\n",
    "import matplotlib.pyplot as plt\n",
    "\n",
    "from tensorflow.keras.datasets import mnist\n",
    "from tensorflow.keras.utils import to_categorical\n",
    "from tensorflow.keras.models import Sequential \n",
    "from tensorflow.keras.layers import Dense"
   ]
  },
  {
   "cell_type": "markdown",
   "metadata": {},
   "source": [
    "### Preprocess your data so that you can feed it into ANN models."
   ]
  },
  {
   "cell_type": "code",
   "execution_count": 2,
   "metadata": {},
   "outputs": [],
   "source": [
    "(X_train, y_train), (X_test, y_test) = mnist.load_data()\n",
    "\n",
    "input_dim = 784  # 28*28\n",
    "output_dim = nb_classes = 10\n",
    "batch_size = 128"
   ]
  },
  {
   "cell_type": "markdown",
   "metadata": {},
   "source": [
    "### Split your data into training and test sets."
   ]
  },
  {
   "cell_type": "code",
   "execution_count": 3,
   "metadata": {},
   "outputs": [],
   "source": [
    "X_train = X_train.reshape(60000, input_dim)\n",
    "X_test = X_test.reshape(10000, input_dim)\n",
    "X_train = X_train.astype('float32')\n",
    "X_test = X_test.astype('float32')\n",
    "X_train /= 255\n",
    "X_test /= 255\n",
    "\n",
    "Y_train = to_categorical(y_train, nb_classes)\n",
    "Y_test = to_categorical(y_test, nb_classes)"
   ]
  },
  {
   "cell_type": "markdown",
   "metadata": {},
   "source": [
    "### Model - Test N-Layers Variability"
   ]
  },
  {
   "cell_type": "code",
   "execution_count": 4,
   "metadata": {
    "collapsed": true
   },
   "outputs": [
    {
     "data": {
      "image/png": "[encoded data removed]",
      "text/plain": [
       "<Figure size 432x288 with 1 Axes>"
      ]
     },
     "metadata": {
      "needs_background": "light"
     },
     "output_type": "display_data"
    },
    {
     "name": "stdout",
     "output_type": "stream",
     "text": [
      "Model: \"sequential\"\n",
      "_________________________________________________________________\n",
      "Layer (type)                 Output Shape              Param #   \n",
      "=================================================================\n",
      "dense (Dense)                (None, 128)               100480    \n",
      "_________________________________________________________________\n",
      "dense_1 (Dense)              (None, 10)                1290      \n",
      "=================================================================\n",
      "Total params: 101,770\n",
      "Trainable params: 101,770\n",
      "Non-trainable params: 0\n",
      "_________________________________________________________________\n"
     ]
    },
    {
     "data": {
      "text/plain": [
       "None"
      ]
     },
     "metadata": {},
     "output_type": "display_data"
    },
    {
     "data": {
      "text/html": [
       "<div>\n",
       "<style scoped>\n",
       "    .dataframe tbody tr th:only-of-type {\n",
       "        vertical-align: middle;\n",
       "    }\n",
       "\n",
       "    .dataframe tbody tr th {\n",
       "        vertical-align: top;\n",
       "    }\n",
       "\n",
       "    .dataframe thead th {\n",
       "        text-align: right;\n",
       "    }\n",
       "</style>\n",
       "<table border=\"1\" class=\"dataframe\">\n",
       "  <thead>\n",
       "    <tr style=\"text-align: right;\">\n",
       "      <th></th>\n",
       "      <th>train-score</th>\n",
       "      <th>test-score</th>\n",
       "    </tr>\n",
       "  </thead>\n",
       "  <tbody>\n",
       "    <tr>\n",
       "      <th>loss-function: categorical_crossentropy</th>\n",
       "      <td>0.005829</td>\n",
       "      <td>0.08639</td>\n",
       "    </tr>\n",
       "    <tr>\n",
       "      <th>metrics: accuracy</th>\n",
       "      <td>0.998967</td>\n",
       "      <td>0.97760</td>\n",
       "    </tr>\n",
       "  </tbody>\n",
       "</table>\n",
       "</div>"
      ],
      "text/plain": [
       "                                         train-score  test-score\n",
       "loss-function: categorical_crossentropy     0.005829     0.08639\n",
       "metrics: accuracy                           0.998967     0.97760"
      ]
     },
     "metadata": {},
     "output_type": "display_data"
    },
    {
     "data": {
      "image/png": "[encoded data removed]",
      "text/plain": [
       "<Figure size 432x288 with 1 Axes>"
      ]
     },
     "metadata": {
      "needs_background": "light"
     },
     "output_type": "display_data"
    },
    {
     "name": "stdout",
     "output_type": "stream",
     "text": [
      "Model: \"sequential_1\"\n",
      "_________________________________________________________________\n",
      "Layer (type)                 Output Shape              Param #   \n",
      "=================================================================\n",
      "dense_2 (Dense)              (None, 128)               100480    \n",
      "_________________________________________________________________\n",
      "dense_3 (Dense)              (None, 128)               16512     \n",
      "_________________________________________________________________\n",
      "dense_4 (Dense)              (None, 10)                1290      \n",
      "=================================================================\n",
      "Total params: 118,282\n",
      "Trainable params: 118,282\n",
      "Non-trainable params: 0\n",
      "_________________________________________________________________\n"
     ]
    },
    {
     "data": {
      "text/plain": [
       "None"
      ]
     },
     "metadata": {},
     "output_type": "display_data"
    },
    {
     "data": {
      "text/html": [
       "<div>\n",
       "<style scoped>\n",
       "    .dataframe tbody tr th:only-of-type {\n",
       "        vertical-align: middle;\n",
       "    }\n",
       "\n",
       "    .dataframe tbody tr th {\n",
       "        vertical-align: top;\n",
       "    }\n",
       "\n",
       "    .dataframe thead th {\n",
       "        text-align: right;\n",
       "    }\n",
       "</style>\n",
       "<table border=\"1\" class=\"dataframe\">\n",
       "  <thead>\n",
       "    <tr style=\"text-align: right;\">\n",
       "      <th></th>\n",
       "      <th>train-score</th>\n",
       "      <th>test-score</th>\n",
       "    </tr>\n",
       "  </thead>\n",
       "  <tbody>\n",
       "    <tr>\n",
       "      <th>loss-function: categorical_crossentropy</th>\n",
       "      <td>0.00360</td>\n",
       "      <td>0.098012</td>\n",
       "    </tr>\n",
       "    <tr>\n",
       "      <th>metrics: accuracy</th>\n",
       "      <td>0.99895</td>\n",
       "      <td>0.978800</td>\n",
       "    </tr>\n",
       "  </tbody>\n",
       "</table>\n",
       "</div>"
      ],
      "text/plain": [
       "                                         train-score  test-score\n",
       "loss-function: categorical_crossentropy      0.00360    0.098012\n",
       "metrics: accuracy                            0.99895    0.978800"
      ]
     },
     "metadata": {},
     "output_type": "display_data"
    },
    {
     "data": {
      "image/png": "[encoded data removed]",
      "text/plain": [
       "<Figure size 432x288 with 1 Axes>"
      ]
     },
     "metadata": {
      "needs_background": "light"
     },
     "output_type": "display_data"
    },
    {
     "name": "stdout",
     "output_type": "stream",
     "text": [
      "Model: \"sequential_2\"\n",
      "_________________________________________________________________\n",
      "Layer (type)                 Output Shape              Param #   \n",
      "=================================================================\n",
      "dense_5 (Dense)              (None, 128)               100480    \n",
      "_________________________________________________________________\n",
      "dense_6 (Dense)              (None, 128)               16512     \n",
      "_________________________________________________________________\n",
      "dense_7 (Dense)              (None, 128)               16512     \n",
      "_________________________________________________________________\n",
      "dense_8 (Dense)              (None, 10)                1290      \n",
      "=================================================================\n",
      "Total params: 134,794\n",
      "Trainable params: 134,794\n",
      "Non-trainable params: 0\n",
      "_________________________________________________________________\n"
     ]
    },
    {
     "data": {
      "text/plain": [
       "None"
      ]
     },
     "metadata": {},
     "output_type": "display_data"
    },
    {
     "data": {
      "text/html": [
       "<div>\n",
       "<style scoped>\n",
       "    .dataframe tbody tr th:only-of-type {\n",
       "        vertical-align: middle;\n",
       "    }\n",
       "\n",
       "    .dataframe tbody tr th {\n",
       "        vertical-align: top;\n",
       "    }\n",
       "\n",
       "    .dataframe thead th {\n",
       "        text-align: right;\n",
       "    }\n",
       "</style>\n",
       "<table border=\"1\" class=\"dataframe\">\n",
       "  <thead>\n",
       "    <tr style=\"text-align: right;\">\n",
       "      <th></th>\n",
       "      <th>train-score</th>\n",
       "      <th>test-score</th>\n",
       "    </tr>\n",
       "  </thead>\n",
       "  <tbody>\n",
       "    <tr>\n",
       "      <th>loss-function: categorical_crossentropy</th>\n",
       "      <td>0.006453</td>\n",
       "      <td>0.097947</td>\n",
       "    </tr>\n",
       "    <tr>\n",
       "      <th>metrics: accuracy</th>\n",
       "      <td>0.997833</td>\n",
       "      <td>0.980200</td>\n",
       "    </tr>\n",
       "  </tbody>\n",
       "</table>\n",
       "</div>"
      ],
      "text/plain": [
       "                                         train-score  test-score\n",
       "loss-function: categorical_crossentropy     0.006453    0.097947\n",
       "metrics: accuracy                           0.997833    0.980200"
      ]
     },
     "metadata": {},
     "output_type": "display_data"
    },
    {
     "data": {
      "image/png": "[encoded data removed]",
      "text/plain": [
       "<Figure size 432x288 with 1 Axes>"
      ]
     },
     "metadata": {
      "needs_background": "light"
     },
     "output_type": "display_data"
    },
    {
     "name": "stdout",
     "output_type": "stream",
     "text": [
      "Model: \"sequential_3\"\n",
      "_________________________________________________________________\n",
      "Layer (type)                 Output Shape              Param #   \n",
      "=================================================================\n",
      "dense_9 (Dense)              (None, 128)               100480    \n",
      "_________________________________________________________________\n",
      "dense_10 (Dense)             (None, 128)               16512     \n",
      "_________________________________________________________________\n",
      "dense_11 (Dense)             (None, 128)               16512     \n",
      "_________________________________________________________________\n",
      "dense_12 (Dense)             (None, 128)               16512     \n",
      "_________________________________________________________________\n",
      "dense_13 (Dense)             (None, 10)                1290      \n",
      "=================================================================\n",
      "Total params: 151,306\n",
      "Trainable params: 151,306\n",
      "Non-trainable params: 0\n",
      "_________________________________________________________________\n"
     ]
    },
    {
     "data": {
      "text/plain": [
       "None"
      ]
     },
     "metadata": {},
     "output_type": "display_data"
    },
    {
     "data": {
      "text/html": [
       "<div>\n",
       "<style scoped>\n",
       "    .dataframe tbody tr th:only-of-type {\n",
       "        vertical-align: middle;\n",
       "    }\n",
       "\n",
       "    .dataframe tbody tr th {\n",
       "        vertical-align: top;\n",
       "    }\n",
       "\n",
       "    .dataframe thead th {\n",
       "        text-align: right;\n",
       "    }\n",
       "</style>\n",
       "<table border=\"1\" class=\"dataframe\">\n",
       "  <thead>\n",
       "    <tr style=\"text-align: right;\">\n",
       "      <th></th>\n",
       "      <th>train-score</th>\n",
       "      <th>test-score</th>\n",
       "    </tr>\n",
       "  </thead>\n",
       "  <tbody>\n",
       "    <tr>\n",
       "      <th>loss-function: categorical_crossentropy</th>\n",
       "      <td>0.011142</td>\n",
       "      <td>0.116666</td>\n",
       "    </tr>\n",
       "    <tr>\n",
       "      <th>metrics: accuracy</th>\n",
       "      <td>0.996317</td>\n",
       "      <td>0.976800</td>\n",
       "    </tr>\n",
       "  </tbody>\n",
       "</table>\n",
       "</div>"
      ],
      "text/plain": [
       "                                         train-score  test-score\n",
       "loss-function: categorical_crossentropy     0.011142    0.116666\n",
       "metrics: accuracy                           0.996317    0.976800"
      ]
     },
     "metadata": {},
     "output_type": "display_data"
    },
    {
     "data": {
      "image/png": "[encoded data removed]",
      "text/plain": [
       "<Figure size 432x288 with 1 Axes>"
      ]
     },
     "metadata": {
      "needs_background": "light"
     },
     "output_type": "display_data"
    },
    {
     "name": "stdout",
     "output_type": "stream",
     "text": [
      "Model: \"sequential_4\"\n",
      "_________________________________________________________________\n",
      "Layer (type)                 Output Shape              Param #   \n",
      "=================================================================\n",
      "dense_14 (Dense)             (None, 128)               100480    \n",
      "_________________________________________________________________\n",
      "dense_15 (Dense)             (None, 128)               16512     \n",
      "_________________________________________________________________\n",
      "dense_16 (Dense)             (None, 128)               16512     \n",
      "_________________________________________________________________\n",
      "dense_17 (Dense)             (None, 128)               16512     \n",
      "_________________________________________________________________\n",
      "dense_18 (Dense)             (None, 128)               16512     \n",
      "_________________________________________________________________\n",
      "dense_19 (Dense)             (None, 10)                1290      \n",
      "=================================================================\n",
      "Total params: 167,818\n",
      "Trainable params: 167,818\n",
      "Non-trainable params: 0\n",
      "_________________________________________________________________\n"
     ]
    },
    {
     "data": {
      "text/plain": [
       "None"
      ]
     },
     "metadata": {},
     "output_type": "display_data"
    },
    {
     "data": {
      "text/html": [
       "<div>\n",
       "<style scoped>\n",
       "    .dataframe tbody tr th:only-of-type {\n",
       "        vertical-align: middle;\n",
       "    }\n",
       "\n",
       "    .dataframe tbody tr th {\n",
       "        vertical-align: top;\n",
       "    }\n",
       "\n",
       "    .dataframe thead th {\n",
       "        text-align: right;\n",
       "    }\n",
       "</style>\n",
       "<table border=\"1\" class=\"dataframe\">\n",
       "  <thead>\n",
       "    <tr style=\"text-align: right;\">\n",
       "      <th></th>\n",
       "      <th>train-score</th>\n",
       "      <th>test-score</th>\n",
       "    </tr>\n",
       "  </thead>\n",
       "  <tbody>\n",
       "    <tr>\n",
       "      <th>loss-function: categorical_crossentropy</th>\n",
       "      <td>0.029872</td>\n",
       "      <td>0.138697</td>\n",
       "    </tr>\n",
       "    <tr>\n",
       "      <th>metrics: accuracy</th>\n",
       "      <td>0.991000</td>\n",
       "      <td>0.971800</td>\n",
       "    </tr>\n",
       "  </tbody>\n",
       "</table>\n",
       "</div>"
      ],
      "text/plain": [
       "                                         train-score  test-score\n",
       "loss-function: categorical_crossentropy     0.029872    0.138697\n",
       "metrics: accuracy                           0.991000    0.971800"
      ]
     },
     "metadata": {},
     "output_type": "display_data"
    }
   ],
   "source": [
    "for n in range(5):\n",
    "    model = Sequential()\n",
    "    model.add(Dense(128, input_shape=(input_dim,), activation='relu'))\n",
    "    for i in range(n):\n",
    "        model.add(Dense(128, activation='relu'))\n",
    "    model.add(Dense(output_dim, activation='softmax'))\n",
    "\n",
    "    mtrcs = ['accuracy']\n",
    "    loss_fn = 'categorical_crossentropy'\n",
    "    model.compile(optimizer='adam', loss=loss_fn, metrics=mtrcs)\n",
    "    history = model.fit(X_train, Y_train, batch_size=batch_size, epochs=20, verbose=0)\n",
    "\n",
    "    train_score = model.evaluate(X_train, Y_train, verbose=0)\n",
    "    test_score = model.evaluate(X_test, Y_test, verbose=0)\n",
    "\n",
    "    scoredf = pd.DataFrame(index=[f\"loss-function: {loss_fn}\"] + [\"metrics: \" + i for i in mtrcs], \n",
    "                           columns=['train-score', 'test-score'])\n",
    "    scoredf['train-score'] = train_score\n",
    "    scoredf['test-score'] = test_score\n",
    "    plt.plot(history.history[mtrcs[0]])\n",
    "    plt.title(f\"N-Layers: {n+2}\")\n",
    "    plt.ylabel(f\"Metric: {mtrcs[0]}\")\n",
    "    plt.xlabel(\"epochs\")\n",
    "    plt.show()\n",
    "    display(model.summary(),\n",
    "            scoredf)"
   ]
  },
  {
   "cell_type": "markdown",
   "metadata": {},
   "source": [
    "<span style=\"color:blue\">All models seem to be performing exceedingly well but with Layers=5 seems to be overfit the least of them all.</span>"
   ]
  },
  {
   "cell_type": "markdown",
   "metadata": {},
   "source": [
    "### Model - Test Activation Functions"
   ]
  },
  {
   "cell_type": "code",
   "execution_count": 7,
   "metadata": {
    "collapsed": true
   },
   "outputs": [
    {
     "data": {
      "image/png": "[encoded data removed]",
      "text/plain": [
       "<Figure size 432x288 with 1 Axes>"
      ]
     },
     "metadata": {
      "needs_background": "light"
     },
     "output_type": "display_data"
    },
    {
     "name": "stdout",
     "output_type": "stream",
     "text": [
      "Model: \"sequential_7\"\n",
      "_________________________________________________________________\n",
      "Layer (type)                 Output Shape              Param #   \n",
      "=================================================================\n",
      "dense_28 (Dense)             (None, 128)               100480    \n",
      "_________________________________________________________________\n",
      "dense_29 (Dense)             (None, 128)               16512     \n",
      "_________________________________________________________________\n",
      "dense_30 (Dense)             (None, 128)               16512     \n",
      "_________________________________________________________________\n",
      "dense_31 (Dense)             (None, 128)               16512     \n",
      "_________________________________________________________________\n",
      "dense_32 (Dense)             (None, 128)               16512     \n",
      "_________________________________________________________________\n",
      "dense_33 (Dense)             (None, 128)               16512     \n",
      "_________________________________________________________________\n",
      "dense_34 (Dense)             (None, 10)                1290      \n",
      "=================================================================\n",
      "Total params: 184,330\n",
      "Trainable params: 184,330\n",
      "Non-trainable params: 0\n",
      "_________________________________________________________________\n"
     ]
    },
    {
     "data": {
      "text/plain": [
       "None"
      ]
     },
     "metadata": {},
     "output_type": "display_data"
    },
    {
     "data": {
      "text/html": [
       "<div>\n",
       "<style scoped>\n",
       "    .dataframe tbody tr th:only-of-type {\n",
       "        vertical-align: middle;\n",
       "    }\n",
       "\n",
       "    .dataframe tbody tr th {\n",
       "        vertical-align: top;\n",
       "    }\n",
       "\n",
       "    .dataframe thead th {\n",
       "        text-align: right;\n",
       "    }\n",
       "</style>\n",
       "<table border=\"1\" class=\"dataframe\">\n",
       "  <thead>\n",
       "    <tr style=\"text-align: right;\">\n",
       "      <th></th>\n",
       "      <th>train-score</th>\n",
       "      <th>test-score</th>\n",
       "    </tr>\n",
       "  </thead>\n",
       "  <tbody>\n",
       "    <tr>\n",
       "      <th>loss-function: categorical_crossentropy</th>\n",
       "      <td>0.01255</td>\n",
       "      <td>0.096844</td>\n",
       "    </tr>\n",
       "    <tr>\n",
       "      <th>metrics: accuracy</th>\n",
       "      <td>0.99570</td>\n",
       "      <td>0.978500</td>\n",
       "    </tr>\n",
       "  </tbody>\n",
       "</table>\n",
       "</div>"
      ],
      "text/plain": [
       "                                         train-score  test-score\n",
       "loss-function: categorical_crossentropy      0.01255    0.096844\n",
       "metrics: accuracy                            0.99570    0.978500"
      ]
     },
     "metadata": {},
     "output_type": "display_data"
    },
    {
     "data": {
      "image/png": "[encoded data removed]",
      "text/plain": [
       "<Figure size 432x288 with 1 Axes>"
      ]
     },
     "metadata": {
      "needs_background": "light"
     },
     "output_type": "display_data"
    },
    {
     "name": "stdout",
     "output_type": "stream",
     "text": [
      "Model: \"sequential_8\"\n",
      "_________________________________________________________________\n",
      "Layer (type)                 Output Shape              Param #   \n",
      "=================================================================\n",
      "dense_35 (Dense)             (None, 128)               100480    \n",
      "_________________________________________________________________\n",
      "dense_36 (Dense)             (None, 128)               16512     \n",
      "_________________________________________________________________\n",
      "dense_37 (Dense)             (None, 128)               16512     \n",
      "_________________________________________________________________\n",
      "dense_38 (Dense)             (None, 128)               16512     \n",
      "_________________________________________________________________\n",
      "dense_39 (Dense)             (None, 128)               16512     \n",
      "_________________________________________________________________\n",
      "dense_40 (Dense)             (None, 128)               16512     \n",
      "_________________________________________________________________\n",
      "dense_41 (Dense)             (None, 10)                1290      \n",
      "=================================================================\n",
      "Total params: 184,330\n",
      "Trainable params: 184,330\n",
      "Non-trainable params: 0\n",
      "_________________________________________________________________\n"
     ]
    },
    {
     "data": {
      "text/plain": [
       "None"
      ]
     },
     "metadata": {},
     "output_type": "display_data"
    },
    {
     "data": {
      "text/html": [
       "<div>\n",
       "<style scoped>\n",
       "    .dataframe tbody tr th:only-of-type {\n",
       "        vertical-align: middle;\n",
       "    }\n",
       "\n",
       "    .dataframe tbody tr th {\n",
       "        vertical-align: top;\n",
       "    }\n",
       "\n",
       "    .dataframe thead th {\n",
       "        text-align: right;\n",
       "    }\n",
       "</style>\n",
       "<table border=\"1\" class=\"dataframe\">\n",
       "  <thead>\n",
       "    <tr style=\"text-align: right;\">\n",
       "      <th></th>\n",
       "      <th>train-score</th>\n",
       "      <th>test-score</th>\n",
       "    </tr>\n",
       "  </thead>\n",
       "  <tbody>\n",
       "    <tr>\n",
       "      <th>loss-function: categorical_crossentropy</th>\n",
       "      <td>0.009021</td>\n",
       "      <td>0.113154</td>\n",
       "    </tr>\n",
       "    <tr>\n",
       "      <th>metrics: accuracy</th>\n",
       "      <td>0.997167</td>\n",
       "      <td>0.977000</td>\n",
       "    </tr>\n",
       "  </tbody>\n",
       "</table>\n",
       "</div>"
      ],
      "text/plain": [
       "                                         train-score  test-score\n",
       "loss-function: categorical_crossentropy     0.009021    0.113154\n",
       "metrics: accuracy                           0.997167    0.977000"
      ]
     },
     "metadata": {},
     "output_type": "display_data"
    },
    {
     "data": {
      "image/png": "[encoded data removed]",
      "text/plain": [
       "<Figure size 432x288 with 1 Axes>"
      ]
     },
     "metadata": {
      "needs_background": "light"
     },
     "output_type": "display_data"
    },
    {
     "name": "stdout",
     "output_type": "stream",
     "text": [
      "Model: \"sequential_9\"\n",
      "_________________________________________________________________\n",
      "Layer (type)                 Output Shape              Param #   \n",
      "=================================================================\n",
      "dense_42 (Dense)             (None, 128)               100480    \n",
      "_________________________________________________________________\n",
      "dense_43 (Dense)             (None, 128)               16512     \n",
      "_________________________________________________________________\n",
      "dense_44 (Dense)             (None, 128)               16512     \n",
      "_________________________________________________________________\n",
      "dense_45 (Dense)             (None, 128)               16512     \n",
      "_________________________________________________________________\n",
      "dense_46 (Dense)             (None, 128)               16512     \n",
      "_________________________________________________________________\n",
      "dense_47 (Dense)             (None, 128)               16512     \n",
      "_________________________________________________________________\n",
      "dense_48 (Dense)             (None, 10)                1290      \n",
      "=================================================================\n",
      "Total params: 184,330\n",
      "Trainable params: 184,330\n",
      "Non-trainable params: 0\n",
      "_________________________________________________________________\n"
     ]
    },
    {
     "data": {
      "text/plain": [
       "None"
      ]
     },
     "metadata": {},
     "output_type": "display_data"
    },
    {
     "data": {
      "text/html": [
       "<div>\n",
       "<style scoped>\n",
       "    .dataframe tbody tr th:only-of-type {\n",
       "        vertical-align: middle;\n",
       "    }\n",
       "\n",
       "    .dataframe tbody tr th {\n",
       "        vertical-align: top;\n",
       "    }\n",
       "\n",
       "    .dataframe thead th {\n",
       "        text-align: right;\n",
       "    }\n",
       "</style>\n",
       "<table border=\"1\" class=\"dataframe\">\n",
       "  <thead>\n",
       "    <tr style=\"text-align: right;\">\n",
       "      <th></th>\n",
       "      <th>train-score</th>\n",
       "      <th>test-score</th>\n",
       "    </tr>\n",
       "  </thead>\n",
       "  <tbody>\n",
       "    <tr>\n",
       "      <th>loss-function: categorical_crossentropy</th>\n",
       "      <td>0.019239</td>\n",
       "      <td>0.109715</td>\n",
       "    </tr>\n",
       "    <tr>\n",
       "      <th>metrics: accuracy</th>\n",
       "      <td>0.993883</td>\n",
       "      <td>0.975100</td>\n",
       "    </tr>\n",
       "  </tbody>\n",
       "</table>\n",
       "</div>"
      ],
      "text/plain": [
       "                                         train-score  test-score\n",
       "loss-function: categorical_crossentropy     0.019239    0.109715\n",
       "metrics: accuracy                           0.993883    0.975100"
      ]
     },
     "metadata": {},
     "output_type": "display_data"
    },
    {
     "data": {
      "image/png": "[encoded data removed]",
      "text/plain": [
       "<Figure size 432x288 with 1 Axes>"
      ]
     },
     "metadata": {
      "needs_background": "light"
     },
     "output_type": "display_data"
    },
    {
     "name": "stdout",
     "output_type": "stream",
     "text": [
      "Model: \"sequential_10\"\n",
      "_________________________________________________________________\n",
      "Layer (type)                 Output Shape              Param #   \n",
      "=================================================================\n",
      "dense_49 (Dense)             (None, 128)               100480    \n",
      "_________________________________________________________________\n",
      "dense_50 (Dense)             (None, 128)               16512     \n",
      "_________________________________________________________________\n",
      "dense_51 (Dense)             (None, 128)               16512     \n",
      "_________________________________________________________________\n",
      "dense_52 (Dense)             (None, 128)               16512     \n",
      "_________________________________________________________________\n",
      "dense_53 (Dense)             (None, 128)               16512     \n",
      "_________________________________________________________________\n",
      "dense_54 (Dense)             (None, 128)               16512     \n",
      "_________________________________________________________________\n",
      "dense_55 (Dense)             (None, 10)                1290      \n",
      "=================================================================\n",
      "Total params: 184,330\n",
      "Trainable params: 184,330\n",
      "Non-trainable params: 0\n",
      "_________________________________________________________________\n"
     ]
    },
    {
     "data": {
      "text/plain": [
       "None"
      ]
     },
     "metadata": {},
     "output_type": "display_data"
    },
    {
     "data": {
      "text/html": [
       "<div>\n",
       "<style scoped>\n",
       "    .dataframe tbody tr th:only-of-type {\n",
       "        vertical-align: middle;\n",
       "    }\n",
       "\n",
       "    .dataframe tbody tr th {\n",
       "        vertical-align: top;\n",
       "    }\n",
       "\n",
       "    .dataframe thead th {\n",
       "        text-align: right;\n",
       "    }\n",
       "</style>\n",
       "<table border=\"1\" class=\"dataframe\">\n",
       "  <thead>\n",
       "    <tr style=\"text-align: right;\">\n",
       "      <th></th>\n",
       "      <th>train-score</th>\n",
       "      <th>test-score</th>\n",
       "    </tr>\n",
       "  </thead>\n",
       "  <tbody>\n",
       "    <tr>\n",
       "      <th>loss-function: categorical_crossentropy</th>\n",
       "      <td>0.017523</td>\n",
       "      <td>0.123164</td>\n",
       "    </tr>\n",
       "    <tr>\n",
       "      <th>metrics: accuracy</th>\n",
       "      <td>0.994800</td>\n",
       "      <td>0.974300</td>\n",
       "    </tr>\n",
       "  </tbody>\n",
       "</table>\n",
       "</div>"
      ],
      "text/plain": [
       "                                         train-score  test-score\n",
       "loss-function: categorical_crossentropy     0.017523    0.123164\n",
       "metrics: accuracy                           0.994800    0.974300"
      ]
     },
     "metadata": {},
     "output_type": "display_data"
    }
   ],
   "source": [
    "for n in ['tanh', 'relu', 'selu', 'sigmoid']:\n",
    "    model = Sequential()\n",
    "    model.add(Dense(128, input_shape=(input_dim,), activation='relu'))\n",
    "    for i in range(3):\n",
    "        model.add(Dense(128, activation=n))\n",
    "    model.add(Dense(output_dim, activation='softmax'))\n",
    "\n",
    "    mtrcs = ['accuracy']\n",
    "    loss_fn = 'categorical_crossentropy'\n",
    "    model.compile(optimizer='adam', loss=loss_fn, metrics=mtrcs)\n",
    "    history = model.fit(X_train, Y_train, batch_size=batch_size, epochs=20, verbose=0)\n",
    "\n",
    "    train_score = model.evaluate(X_train, Y_train, verbose=0)\n",
    "    test_score = model.evaluate(X_test, Y_test, verbose=0)\n",
    "\n",
    "    scoredf = pd.DataFrame(index=[f\"loss-function: {loss_fn}\"] + [\"metrics: \" + i for i in mtrcs], \n",
    "                           columns=['train-score', 'test-score'])\n",
    "    scoredf['train-score'] = train_score\n",
    "    scoredf['test-score'] = test_score\n",
    "    plt.plot(history.history[mtrcs[0]])\n",
    "    plt.title(f\"Activation-function: {n}\")\n",
    "    plt.ylabel(f\"Metric: {mtrcs[0]}\")\n",
    "    plt.xlabel(\"epochs\")\n",
    "    plt.show()\n",
    "    display(model.summary(),\n",
    "            scoredf)"
   ]
  },
  {
   "cell_type": "markdown",
   "metadata": {},
   "source": [
    "<span style=\"color:blue\">All models perform pretty identically in terms of accuracy, however tanh had the lowest loss on the out-of-sample data</span>"
   ]
  },
  {
   "cell_type": "markdown",
   "metadata": {},
   "source": [
    "### Model - Test Neuron Density"
   ]
  },
  {
   "cell_type": "code",
   "execution_count": 8,
   "metadata": {
    "collapsed": true
   },
   "outputs": [
    {
     "data": {
      "image/png": "[encoded data removed]",
      "text/plain": [
       "<Figure size 432x288 with 1 Axes>"
      ]
     },
     "metadata": {
      "needs_background": "light"
     },
     "output_type": "display_data"
    },
    {
     "name": "stdout",
     "output_type": "stream",
     "text": [
      "Model: \"sequential_11\"\n",
      "_________________________________________________________________\n",
      "Layer (type)                 Output Shape              Param #   \n",
      "=================================================================\n",
      "dense_56 (Dense)             (None, 128)               100480    \n",
      "_________________________________________________________________\n",
      "dense_57 (Dense)             (None, 128)               16512     \n",
      "_________________________________________________________________\n",
      "dense_58 (Dense)             (None, 64)                8256      \n",
      "_________________________________________________________________\n",
      "dense_59 (Dense)             (None, 42)                2730      \n",
      "_________________________________________________________________\n",
      "dense_60 (Dense)             (None, 10)                430       \n",
      "=================================================================\n",
      "Total params: 128,408\n",
      "Trainable params: 128,408\n",
      "Non-trainable params: 0\n",
      "_________________________________________________________________\n"
     ]
    },
    {
     "data": {
      "text/plain": [
       "None"
      ]
     },
     "metadata": {},
     "output_type": "display_data"
    },
    {
     "data": {
      "text/html": [
       "<div>\n",
       "<style scoped>\n",
       "    .dataframe tbody tr th:only-of-type {\n",
       "        vertical-align: middle;\n",
       "    }\n",
       "\n",
       "    .dataframe tbody tr th {\n",
       "        vertical-align: top;\n",
       "    }\n",
       "\n",
       "    .dataframe thead th {\n",
       "        text-align: right;\n",
       "    }\n",
       "</style>\n",
       "<table border=\"1\" class=\"dataframe\">\n",
       "  <thead>\n",
       "    <tr style=\"text-align: right;\">\n",
       "      <th></th>\n",
       "      <th>train-score</th>\n",
       "      <th>test-score</th>\n",
       "    </tr>\n",
       "  </thead>\n",
       "  <tbody>\n",
       "    <tr>\n",
       "      <th>loss-function: categorical_crossentropy</th>\n",
       "      <td>0.011184</td>\n",
       "      <td>0.09175</td>\n",
       "    </tr>\n",
       "    <tr>\n",
       "      <th>metrics: accuracy</th>\n",
       "      <td>0.996233</td>\n",
       "      <td>0.97700</td>\n",
       "    </tr>\n",
       "  </tbody>\n",
       "</table>\n",
       "</div>"
      ],
      "text/plain": [
       "                                         train-score  test-score\n",
       "loss-function: categorical_crossentropy     0.011184     0.09175\n",
       "metrics: accuracy                           0.996233     0.97700"
      ]
     },
     "metadata": {},
     "output_type": "display_data"
    },
    {
     "data": {
      "image/png": "[encoded data removed]",
      "text/plain": [
       "<Figure size 432x288 with 1 Axes>"
      ]
     },
     "metadata": {
      "needs_background": "light"
     },
     "output_type": "display_data"
    },
    {
     "name": "stdout",
     "output_type": "stream",
     "text": [
      "Model: \"sequential_12\"\n",
      "_________________________________________________________________\n",
      "Layer (type)                 Output Shape              Param #   \n",
      "=================================================================\n",
      "dense_61 (Dense)             (None, 256)               200960    \n",
      "_________________________________________________________________\n",
      "dense_62 (Dense)             (None, 256)               65792     \n",
      "_________________________________________________________________\n",
      "dense_63 (Dense)             (None, 128)               32896     \n",
      "_________________________________________________________________\n",
      "dense_64 (Dense)             (None, 85)                10965     \n",
      "_________________________________________________________________\n",
      "dense_65 (Dense)             (None, 10)                860       \n",
      "=================================================================\n",
      "Total params: 311,473\n",
      "Trainable params: 311,473\n",
      "Non-trainable params: 0\n",
      "_________________________________________________________________\n"
     ]
    },
    {
     "data": {
      "text/plain": [
       "None"
      ]
     },
     "metadata": {},
     "output_type": "display_data"
    },
    {
     "data": {
      "text/html": [
       "<div>\n",
       "<style scoped>\n",
       "    .dataframe tbody tr th:only-of-type {\n",
       "        vertical-align: middle;\n",
       "    }\n",
       "\n",
       "    .dataframe tbody tr th {\n",
       "        vertical-align: top;\n",
       "    }\n",
       "\n",
       "    .dataframe thead th {\n",
       "        text-align: right;\n",
       "    }\n",
       "</style>\n",
       "<table border=\"1\" class=\"dataframe\">\n",
       "  <thead>\n",
       "    <tr style=\"text-align: right;\">\n",
       "      <th></th>\n",
       "      <th>train-score</th>\n",
       "      <th>test-score</th>\n",
       "    </tr>\n",
       "  </thead>\n",
       "  <tbody>\n",
       "    <tr>\n",
       "      <th>loss-function: categorical_crossentropy</th>\n",
       "      <td>0.018656</td>\n",
       "      <td>0.10504</td>\n",
       "    </tr>\n",
       "    <tr>\n",
       "      <th>metrics: accuracy</th>\n",
       "      <td>0.994200</td>\n",
       "      <td>0.97720</td>\n",
       "    </tr>\n",
       "  </tbody>\n",
       "</table>\n",
       "</div>"
      ],
      "text/plain": [
       "                                         train-score  test-score\n",
       "loss-function: categorical_crossentropy     0.018656     0.10504\n",
       "metrics: accuracy                           0.994200     0.97720"
      ]
     },
     "metadata": {},
     "output_type": "display_data"
    },
    {
     "data": {
      "image/png": "[encoded data removed]",
      "text/plain": [
       "<Figure size 432x288 with 1 Axes>"
      ]
     },
     "metadata": {
      "needs_background": "light"
     },
     "output_type": "display_data"
    },
    {
     "name": "stdout",
     "output_type": "stream",
     "text": [
      "Model: \"sequential_13\"\n",
      "_________________________________________________________________\n",
      "Layer (type)                 Output Shape              Param #   \n",
      "=================================================================\n",
      "dense_66 (Dense)             (None, 512)               401920    \n",
      "_________________________________________________________________\n",
      "dense_67 (Dense)             (None, 512)               262656    \n",
      "_________________________________________________________________\n",
      "dense_68 (Dense)             (None, 256)               131328    \n",
      "_________________________________________________________________\n",
      "dense_69 (Dense)             (None, 170)               43690     \n",
      "_________________________________________________________________\n",
      "dense_70 (Dense)             (None, 10)                1710      \n",
      "=================================================================\n",
      "Total params: 841,304\n",
      "Trainable params: 841,304\n",
      "Non-trainable params: 0\n",
      "_________________________________________________________________\n"
     ]
    },
    {
     "data": {
      "text/plain": [
       "None"
      ]
     },
     "metadata": {},
     "output_type": "display_data"
    },
    {
     "data": {
      "text/html": [
       "<div>\n",
       "<style scoped>\n",
       "    .dataframe tbody tr th:only-of-type {\n",
       "        vertical-align: middle;\n",
       "    }\n",
       "\n",
       "    .dataframe tbody tr th {\n",
       "        vertical-align: top;\n",
       "    }\n",
       "\n",
       "    .dataframe thead th {\n",
       "        text-align: right;\n",
       "    }\n",
       "</style>\n",
       "<table border=\"1\" class=\"dataframe\">\n",
       "  <thead>\n",
       "    <tr style=\"text-align: right;\">\n",
       "      <th></th>\n",
       "      <th>train-score</th>\n",
       "      <th>test-score</th>\n",
       "    </tr>\n",
       "  </thead>\n",
       "  <tbody>\n",
       "    <tr>\n",
       "      <th>loss-function: categorical_crossentropy</th>\n",
       "      <td>0.011373</td>\n",
       "      <td>0.08583</td>\n",
       "    </tr>\n",
       "    <tr>\n",
       "      <th>metrics: accuracy</th>\n",
       "      <td>0.996400</td>\n",
       "      <td>0.98020</td>\n",
       "    </tr>\n",
       "  </tbody>\n",
       "</table>\n",
       "</div>"
      ],
      "text/plain": [
       "                                         train-score  test-score\n",
       "loss-function: categorical_crossentropy     0.011373     0.08583\n",
       "metrics: accuracy                           0.996400     0.98020"
      ]
     },
     "metadata": {},
     "output_type": "display_data"
    },
    {
     "data": {
      "image/png": "[encoded data removed]",
      "text/plain": [
       "<Figure size 432x288 with 1 Axes>"
      ]
     },
     "metadata": {
      "needs_background": "light"
     },
     "output_type": "display_data"
    },
    {
     "name": "stdout",
     "output_type": "stream",
     "text": [
      "Model: \"sequential_14\"\n",
      "_________________________________________________________________\n",
      "Layer (type)                 Output Shape              Param #   \n",
      "=================================================================\n",
      "dense_71 (Dense)             (None, 1024)              803840    \n",
      "_________________________________________________________________\n",
      "dense_72 (Dense)             (None, 1024)              1049600   \n",
      "_________________________________________________________________\n",
      "dense_73 (Dense)             (None, 512)               524800    \n",
      "_________________________________________________________________\n",
      "dense_74 (Dense)             (None, 341)               174933    \n",
      "_________________________________________________________________\n",
      "dense_75 (Dense)             (None, 10)                3420      \n",
      "=================================================================\n",
      "Total params: 2,556,593\n",
      "Trainable params: 2,556,593\n",
      "Non-trainable params: 0\n",
      "_________________________________________________________________\n"
     ]
    },
    {
     "data": {
      "text/plain": [
       "None"
      ]
     },
     "metadata": {},
     "output_type": "display_data"
    },
    {
     "data": {
      "text/html": [
       "<div>\n",
       "<style scoped>\n",
       "    .dataframe tbody tr th:only-of-type {\n",
       "        vertical-align: middle;\n",
       "    }\n",
       "\n",
       "    .dataframe tbody tr th {\n",
       "        vertical-align: top;\n",
       "    }\n",
       "\n",
       "    .dataframe thead th {\n",
       "        text-align: right;\n",
       "    }\n",
       "</style>\n",
       "<table border=\"1\" class=\"dataframe\">\n",
       "  <thead>\n",
       "    <tr style=\"text-align: right;\">\n",
       "      <th></th>\n",
       "      <th>train-score</th>\n",
       "      <th>test-score</th>\n",
       "    </tr>\n",
       "  </thead>\n",
       "  <tbody>\n",
       "    <tr>\n",
       "      <th>loss-function: categorical_crossentropy</th>\n",
       "      <td>0.012105</td>\n",
       "      <td>0.09347</td>\n",
       "    </tr>\n",
       "    <tr>\n",
       "      <th>metrics: accuracy</th>\n",
       "      <td>0.996300</td>\n",
       "      <td>0.97980</td>\n",
       "    </tr>\n",
       "  </tbody>\n",
       "</table>\n",
       "</div>"
      ],
      "text/plain": [
       "                                         train-score  test-score\n",
       "loss-function: categorical_crossentropy     0.012105     0.09347\n",
       "metrics: accuracy                           0.996300     0.97980"
      ]
     },
     "metadata": {},
     "output_type": "display_data"
    }
   ],
   "source": [
    "for n in [128, 256, 512, 1024]:\n",
    "    model = Sequential()\n",
    "    model.add(Dense(n, input_shape=(input_dim,), activation='relu'))\n",
    "    for i in range(3):\n",
    "        j = n // (i+1)\n",
    "        model.add(Dense(j, activation='tanh'))\n",
    "    model.add(Dense(output_dim, activation='softmax'))\n",
    "\n",
    "    mtrcs = ['accuracy']\n",
    "    loss_fn = 'categorical_crossentropy'\n",
    "    model.compile(optimizer='adam', loss=loss_fn, metrics=mtrcs)\n",
    "    history = model.fit(X_train, Y_train, batch_size=batch_size, epochs=20, verbose=0)\n",
    "\n",
    "    train_score = model.evaluate(X_train, Y_train, verbose=0)\n",
    "    test_score = model.evaluate(X_test, Y_test, verbose=0)\n",
    "\n",
    "    scoredf = pd.DataFrame(index=[f\"loss-function: {loss_fn}\"] + [\"metrics: \" + i for i in mtrcs], \n",
    "                           columns=['train-score', 'test-score'])\n",
    "    scoredf['train-score'] = train_score\n",
    "    scoredf['test-score'] = test_score\n",
    "    plt.plot(history.history[mtrcs[0]])\n",
    "    plt.title(f\"Starting Neuron Density: {n}\")\n",
    "    plt.ylabel(f\"Metric: {mtrcs[0]}\")\n",
    "    plt.xlabel(\"epochs\")\n",
    "    plt.show()\n",
    "    display(model.summary(),\n",
    "            scoredf)"
   ]
  },
  {
   "cell_type": "markdown",
   "metadata": {},
   "source": [
    "<span style=\"color:blue\">All models perform pretty identically in terms of accuracy, however starting neural density of 512 performs the best had the lowest loss on the out-of-sample data</span>"
   ]
  },
  {
   "cell_type": "markdown",
   "metadata": {},
   "source": [
    "### Model - Test Batch Sizes"
   ]
  },
  {
   "cell_type": "code",
   "execution_count": 12,
   "metadata": {
    "collapsed": true
   },
   "outputs": [
    {
     "data": {
      "application/vnd.jupyter.widget-view+json": {
       "model_id": "1f3d47c41bbb44ad9f9f8bf1bca4033f",
       "version_major": 2,
       "version_minor": 0
      },
      "text/plain": [
       "HBox(children=(FloatProgress(value=0.0, max=4.0), HTML(value='')))"
      ]
     },
     "metadata": {},
     "output_type": "display_data"
    },
    {
     "data": {
      "image/png": "[encoded data removed]",
      "text/plain": [
       "<Figure size 432x288 with 1 Axes>"
      ]
     },
     "metadata": {
      "needs_background": "light"
     },
     "output_type": "display_data"
    },
    {
     "name": "stdout",
     "output_type": "stream",
     "text": [
      "Model: \"sequential_16\"\n",
      "_________________________________________________________________\n",
      "Layer (type)                 Output Shape              Param #   \n",
      "=================================================================\n",
      "dense_81 (Dense)             (None, 512)               401920    \n",
      "_________________________________________________________________\n",
      "dense_82 (Dense)             (None, 512)               262656    \n",
      "_________________________________________________________________\n",
      "dense_83 (Dense)             (None, 256)               131328    \n",
      "_________________________________________________________________\n",
      "dense_84 (Dense)             (None, 170)               43690     \n",
      "_________________________________________________________________\n",
      "dense_85 (Dense)             (None, 10)                1710      \n",
      "=================================================================\n",
      "Total params: 841,304\n",
      "Trainable params: 841,304\n",
      "Non-trainable params: 0\n",
      "_________________________________________________________________\n"
     ]
    },
    {
     "data": {
      "text/plain": [
       "None"
      ]
     },
     "metadata": {},
     "output_type": "display_data"
    },
    {
     "data": {
      "text/html": [
       "<div>\n",
       "<style scoped>\n",
       "    .dataframe tbody tr th:only-of-type {\n",
       "        vertical-align: middle;\n",
       "    }\n",
       "\n",
       "    .dataframe tbody tr th {\n",
       "        vertical-align: top;\n",
       "    }\n",
       "\n",
       "    .dataframe thead th {\n",
       "        text-align: right;\n",
       "    }\n",
       "</style>\n",
       "<table border=\"1\" class=\"dataframe\">\n",
       "  <thead>\n",
       "    <tr style=\"text-align: right;\">\n",
       "      <th></th>\n",
       "      <th>train-score</th>\n",
       "      <th>test-score</th>\n",
       "    </tr>\n",
       "  </thead>\n",
       "  <tbody>\n",
       "    <tr>\n",
       "      <th>loss-function: categorical_crossentropy</th>\n",
       "      <td>0.009351</td>\n",
       "      <td>0.109672</td>\n",
       "    </tr>\n",
       "    <tr>\n",
       "      <th>metrics: accuracy</th>\n",
       "      <td>0.997000</td>\n",
       "      <td>0.978300</td>\n",
       "    </tr>\n",
       "  </tbody>\n",
       "</table>\n",
       "</div>"
      ],
      "text/plain": [
       "                                         train-score  test-score\n",
       "loss-function: categorical_crossentropy     0.009351    0.109672\n",
       "metrics: accuracy                           0.997000    0.978300"
      ]
     },
     "metadata": {},
     "output_type": "display_data"
    },
    {
     "data": {
      "image/png": "[encoded data removed]",
      "text/plain": [
       "<Figure size 432x288 with 1 Axes>"
      ]
     },
     "metadata": {
      "needs_background": "light"
     },
     "output_type": "display_data"
    },
    {
     "name": "stdout",
     "output_type": "stream",
     "text": [
      "Model: \"sequential_17\"\n",
      "_________________________________________________________________\n",
      "Layer (type)                 Output Shape              Param #   \n",
      "=================================================================\n",
      "dense_86 (Dense)             (None, 512)               401920    \n",
      "_________________________________________________________________\n",
      "dense_87 (Dense)             (None, 512)               262656    \n",
      "_________________________________________________________________\n",
      "dense_88 (Dense)             (None, 256)               131328    \n",
      "_________________________________________________________________\n",
      "dense_89 (Dense)             (None, 170)               43690     \n",
      "_________________________________________________________________\n",
      "dense_90 (Dense)             (None, 10)                1710      \n",
      "=================================================================\n",
      "Total params: 841,304\n",
      "Trainable params: 841,304\n",
      "Non-trainable params: 0\n",
      "_________________________________________________________________\n"
     ]
    },
    {
     "data": {
      "text/plain": [
       "None"
      ]
     },
     "metadata": {},
     "output_type": "display_data"
    },
    {
     "data": {
      "text/html": [
       "<div>\n",
       "<style scoped>\n",
       "    .dataframe tbody tr th:only-of-type {\n",
       "        vertical-align: middle;\n",
       "    }\n",
       "\n",
       "    .dataframe tbody tr th {\n",
       "        vertical-align: top;\n",
       "    }\n",
       "\n",
       "    .dataframe thead th {\n",
       "        text-align: right;\n",
       "    }\n",
       "</style>\n",
       "<table border=\"1\" class=\"dataframe\">\n",
       "  <thead>\n",
       "    <tr style=\"text-align: right;\">\n",
       "      <th></th>\n",
       "      <th>train-score</th>\n",
       "      <th>test-score</th>\n",
       "    </tr>\n",
       "  </thead>\n",
       "  <tbody>\n",
       "    <tr>\n",
       "      <th>loss-function: categorical_crossentropy</th>\n",
       "      <td>0.013710</td>\n",
       "      <td>0.107765</td>\n",
       "    </tr>\n",
       "    <tr>\n",
       "      <th>metrics: accuracy</th>\n",
       "      <td>0.995417</td>\n",
       "      <td>0.977300</td>\n",
       "    </tr>\n",
       "  </tbody>\n",
       "</table>\n",
       "</div>"
      ],
      "text/plain": [
       "                                         train-score  test-score\n",
       "loss-function: categorical_crossentropy     0.013710    0.107765\n",
       "metrics: accuracy                           0.995417    0.977300"
      ]
     },
     "metadata": {},
     "output_type": "display_data"
    },
    {
     "data": {
      "image/png": "[encoded data removed]",
      "text/plain": [
       "<Figure size 432x288 with 1 Axes>"
      ]
     },
     "metadata": {
      "needs_background": "light"
     },
     "output_type": "display_data"
    },
    {
     "name": "stdout",
     "output_type": "stream",
     "text": [
      "Model: \"sequential_18\"\n",
      "_________________________________________________________________\n",
      "Layer (type)                 Output Shape              Param #   \n",
      "=================================================================\n",
      "dense_91 (Dense)             (None, 512)               401920    \n",
      "_________________________________________________________________\n",
      "dense_92 (Dense)             (None, 512)               262656    \n",
      "_________________________________________________________________\n",
      "dense_93 (Dense)             (None, 256)               131328    \n",
      "_________________________________________________________________\n",
      "dense_94 (Dense)             (None, 170)               43690     \n",
      "_________________________________________________________________\n",
      "dense_95 (Dense)             (None, 10)                1710      \n",
      "=================================================================\n",
      "Total params: 841,304\n",
      "Trainable params: 841,304\n",
      "Non-trainable params: 0\n",
      "_________________________________________________________________\n"
     ]
    },
    {
     "data": {
      "text/plain": [
       "None"
      ]
     },
     "metadata": {},
     "output_type": "display_data"
    },
    {
     "data": {
      "text/html": [
       "<div>\n",
       "<style scoped>\n",
       "    .dataframe tbody tr th:only-of-type {\n",
       "        vertical-align: middle;\n",
       "    }\n",
       "\n",
       "    .dataframe tbody tr th {\n",
       "        vertical-align: top;\n",
       "    }\n",
       "\n",
       "    .dataframe thead th {\n",
       "        text-align: right;\n",
       "    }\n",
       "</style>\n",
       "<table border=\"1\" class=\"dataframe\">\n",
       "  <thead>\n",
       "    <tr style=\"text-align: right;\">\n",
       "      <th></th>\n",
       "      <th>train-score</th>\n",
       "      <th>test-score</th>\n",
       "    </tr>\n",
       "  </thead>\n",
       "  <tbody>\n",
       "    <tr>\n",
       "      <th>loss-function: categorical_crossentropy</th>\n",
       "      <td>0.00383</td>\n",
       "      <td>0.076015</td>\n",
       "    </tr>\n",
       "    <tr>\n",
       "      <th>metrics: accuracy</th>\n",
       "      <td>0.99895</td>\n",
       "      <td>0.981400</td>\n",
       "    </tr>\n",
       "  </tbody>\n",
       "</table>\n",
       "</div>"
      ],
      "text/plain": [
       "                                         train-score  test-score\n",
       "loss-function: categorical_crossentropy      0.00383    0.076015\n",
       "metrics: accuracy                            0.99895    0.981400"
      ]
     },
     "metadata": {},
     "output_type": "display_data"
    },
    {
     "data": {
      "image/png": "[encoded data removed]",
      "text/plain": [
       "<Figure size 432x288 with 1 Axes>"
      ]
     },
     "metadata": {
      "needs_background": "light"
     },
     "output_type": "display_data"
    },
    {
     "name": "stdout",
     "output_type": "stream",
     "text": [
      "Model: \"sequential_19\"\n",
      "_________________________________________________________________\n",
      "Layer (type)                 Output Shape              Param #   \n",
      "=================================================================\n",
      "dense_96 (Dense)             (None, 512)               401920    \n",
      "_________________________________________________________________\n",
      "dense_97 (Dense)             (None, 512)               262656    \n",
      "_________________________________________________________________\n",
      "dense_98 (Dense)             (None, 256)               131328    \n",
      "_________________________________________________________________\n",
      "dense_99 (Dense)             (None, 170)               43690     \n",
      "_________________________________________________________________\n",
      "dense_100 (Dense)            (None, 10)                1710      \n",
      "=================================================================\n",
      "Total params: 841,304\n",
      "Trainable params: 841,304\n",
      "Non-trainable params: 0\n",
      "_________________________________________________________________\n"
     ]
    },
    {
     "data": {
      "text/plain": [
       "None"
      ]
     },
     "metadata": {},
     "output_type": "display_data"
    },
    {
     "data": {
      "text/html": [
       "<div>\n",
       "<style scoped>\n",
       "    .dataframe tbody tr th:only-of-type {\n",
       "        vertical-align: middle;\n",
       "    }\n",
       "\n",
       "    .dataframe tbody tr th {\n",
       "        vertical-align: top;\n",
       "    }\n",
       "\n",
       "    .dataframe thead th {\n",
       "        text-align: right;\n",
       "    }\n",
       "</style>\n",
       "<table border=\"1\" class=\"dataframe\">\n",
       "  <thead>\n",
       "    <tr style=\"text-align: right;\">\n",
       "      <th></th>\n",
       "      <th>train-score</th>\n",
       "      <th>test-score</th>\n",
       "    </tr>\n",
       "  </thead>\n",
       "  <tbody>\n",
       "    <tr>\n",
       "      <th>loss-function: categorical_crossentropy</th>\n",
       "      <td>0.000862</td>\n",
       "      <td>0.078399</td>\n",
       "    </tr>\n",
       "    <tr>\n",
       "      <th>metrics: accuracy</th>\n",
       "      <td>0.999833</td>\n",
       "      <td>0.982400</td>\n",
       "    </tr>\n",
       "  </tbody>\n",
       "</table>\n",
       "</div>"
      ],
      "text/plain": [
       "                                         train-score  test-score\n",
       "loss-function: categorical_crossentropy     0.000862    0.078399\n",
       "metrics: accuracy                           0.999833    0.982400"
      ]
     },
     "metadata": {},
     "output_type": "display_data"
    },
    {
     "name": "stdout",
     "output_type": "stream",
     "text": [
      "\n"
     ]
    }
   ],
   "source": [
    "for m in [128, 256, 512, 1024]:\n",
    "    n = 512\n",
    "    model = Sequential()\n",
    "    model.add(Dense(n, input_shape=(input_dim,), activation='relu'))\n",
    "    for i in range(3):\n",
    "        j = n // (i+1)\n",
    "        model.add(Dense(j, activation='tanh'))\n",
    "    model.add(Dense(output_dim, activation='softmax'))\n",
    "\n",
    "    mtrcs = ['accuracy']\n",
    "    loss_fn = 'categorical_crossentropy'\n",
    "    model.compile(optimizer='adam', loss=loss_fn, metrics=mtrcs)\n",
    "    history = model.fit(X_train, Y_train, batch_size=m, epochs=20, verbose=0)\n",
    "\n",
    "    train_score = model.evaluate(X_train, Y_train, verbose=0)\n",
    "    test_score = model.evaluate(X_test, Y_test, verbose=0)\n",
    "\n",
    "    scoredf = pd.DataFrame(index=[f\"loss-function: {loss_fn}\"] + [\"metrics: \" + i for i in mtrcs], \n",
    "                           columns=['train-score', 'test-score'])\n",
    "    scoredf['train-score'] = train_score\n",
    "    scoredf['test-score'] = test_score\n",
    "    plt.plot(history.history[mtrcs[0]])\n",
    "    plt.title(f\"Batch Size: {m}\")\n",
    "    plt.ylabel(f\"Metric: {mtrcs[0]}\")\n",
    "    plt.xlabel(\"epochs\")\n",
    "    plt.show()\n",
    "    display(model.summary(),\n",
    "            scoredf)"
   ]
  },
  {
   "cell_type": "markdown",
   "metadata": {},
   "source": [
    "<span style=\"color:blue\">All models perform pretty identically in terms of accuracy, however batch size of 512 performs the better than 128 and 256 without the apparent overfitting we see in 1024</span>"
   ]
  },
  {
   "cell_type": "markdown",
   "metadata": {},
   "source": [
    "### Conclusion\n",
    "\n",
    "<span style=\"color:blue\">The entire iterative process from the beginning used the analysis of the performance on accuracy and score of the loss function comparing the the training scores to the validation scores.  The structure of the challenge has manually optimizing these parameters one at a time, where we may want to use gridsearch or some similar loops to validate all combinations rather than one variable at a time.  The manual optimization is not a pure check of highest accuracy (for fear of overfitting), nor is it a just a pure loss minimization.  Selection of the \"optimal\" parameter would also includes and is maybe more dependant on the model's performance with out of sample data.  Perhaps this is not the best dataset to highlight the process since accuracy remained incredibly high for all trained models, even with the validation set.  We also saw convergance with all of our models, perhaps with a lower number of epochs we could accent how quickly certain parameters let the model converge and reach acceptable thresholds of accuracy and loss score.</span>"
   ]
  }
 ],
 "metadata": {
  "kernelspec": {
   "display_name": "Python 3",
   "language": "python",
   "name": "python3"
  },
  "language_info": {
   "codemirror_mode": {
    "name": "ipython",
    "version": 3
   },
   "file_extension": ".py",
   "mimetype": "text/x-python",
   "name": "python",
   "nbconvert_exporter": "python",
   "pygments_lexer": "ipython3",
   "version": "3.7.7"
  }
 },
 "nbformat": 4,
 "nbformat_minor": 2
}
