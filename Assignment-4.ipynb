{
 "cells": [
  {
   "cell_type": "markdown",
   "metadata": {},
   "source": [
    "# Activation and Loss functions\n",
    "\n",
    "### To complete this assignment, create a Jupyter notebook containing your solutions to the following tasks:\n",
    "\n",
    "1. In this task, you'll implement several ANN models with different activation functions. Specifically:\n",
    "  1. Implement a three layer ANN model with 128, 64 and 10 neurons in the layers using tanh activation function for each layer.\n",
    "  1. Implement a three layer ANN model with 128, 64 and 10 neurons in the layers using sigmoid activation function for each layer.\n",
    "  1. Implement a three layer ANN model with 128, 64 and 10 neurons in the layers using ReLU activation function for each layer.\n",
    "  1. Compare the result of each model with each other. Which activation function did perform better?\n",
    "1. In this task, you'll implement the ANN models specified below with the hinge loss function as their loss functions:\n",
    "  1. Implement a three layer ANN model with 128, 64 and 10 neurons in the layers using tanh activation function for each layer.\n",
    "  1. Implement a three layer ANN model with 128, 64 and 10 neurons in the layers using sigmoid activation function for each layer.\n",
    "  1. Implement a three layer ANN model with 128, 64 and 10 neurons in the layers using ReLU activation function for each layer.\n",
    "  1. Compare the result of each model with the result of the same model from the previous task. Which loss function did perform better?\n",
    "\n",
    "### Lib imports and data load"
   ]
  },
  {
   "cell_type": "code",
   "execution_count": 1,
   "metadata": {},
   "outputs": [],
   "source": [
    "import numpy as np\n",
    "import pandas as pd\n",
    "import matplotlib.pyplot as plt\n",
    "\n",
    "from tensorflow.keras.datasets import mnist\n",
    "from tensorflow.keras.utils import to_categorical\n",
    "from tensorflow.keras.models import Sequential \n",
    "from tensorflow.keras.layers import Dense"
   ]
  },
  {
   "cell_type": "code",
   "execution_count": 2,
   "metadata": {},
   "outputs": [],
   "source": [
    "(X_train, y_train), (X_test, y_test) = mnist.load_data()\n",
    "\n",
    "input_dim = 784  # 28*28\n",
    "output_dim = nb_classes = 10\n",
    "batch_size = 128\n",
    "\n",
    "X_train = X_train.reshape(60000, input_dim)\n",
    "X_test = X_test.reshape(10000, input_dim)\n",
    "X_train = X_train.astype('float32')\n",
    "X_test = X_test.astype('float32')\n",
    "X_train /= 255\n",
    "X_test /= 255\n",
    "\n",
    "Y_train = to_categorical(y_train, nb_classes)\n",
    "Y_test = to_categorical(y_test, nb_classes)"
   ]
  },
  {
   "cell_type": "markdown",
   "metadata": {},
   "source": [
    "### Model Set 1 - Loss:'categorical_crossentropy'"
   ]
  },
  {
   "cell_type": "code",
   "execution_count": 3,
   "metadata": {},
   "outputs": [
    {
     "data": {
      "text/plain": [
       "'activation function: tanh'"
      ]
     },
     "metadata": {},
     "output_type": "display_data"
    },
    {
     "data": {
      "text/html": [
       "<div>\n",
       "<style scoped>\n",
       "    .dataframe tbody tr th:only-of-type {\n",
       "        vertical-align: middle;\n",
       "    }\n",
       "\n",
       "    .dataframe tbody tr th {\n",
       "        vertical-align: top;\n",
       "    }\n",
       "\n",
       "    .dataframe thead th {\n",
       "        text-align: right;\n",
       "    }\n",
       "</style>\n",
       "<table border=\"1\" class=\"dataframe\">\n",
       "  <thead>\n",
       "    <tr style=\"text-align: right;\">\n",
       "      <th></th>\n",
       "      <th>train-score</th>\n",
       "      <th>test-score</th>\n",
       "    </tr>\n",
       "  </thead>\n",
       "  <tbody>\n",
       "    <tr>\n",
       "      <th>loss-function: categorical_crossentropy</th>\n",
       "      <td>7.893569</td>\n",
       "      <td>7.833394</td>\n",
       "    </tr>\n",
       "    <tr>\n",
       "      <th>metrics: accuracy</th>\n",
       "      <td>0.090350</td>\n",
       "      <td>0.089200</td>\n",
       "    </tr>\n",
       "  </tbody>\n",
       "</table>\n",
       "</div>"
      ],
      "text/plain": [
       "                                         train-score  test-score\n",
       "loss-function: categorical_crossentropy     7.893569    7.833394\n",
       "metrics: accuracy                           0.090350    0.089200"
      ]
     },
     "metadata": {},
     "output_type": "display_data"
    },
    {
     "data": {
      "text/plain": [
       "'activation function: sigmoid'"
      ]
     },
     "metadata": {},
     "output_type": "display_data"
    },
    {
     "data": {
      "text/html": [
       "<div>\n",
       "<style scoped>\n",
       "    .dataframe tbody tr th:only-of-type {\n",
       "        vertical-align: middle;\n",
       "    }\n",
       "\n",
       "    .dataframe tbody tr th {\n",
       "        vertical-align: top;\n",
       "    }\n",
       "\n",
       "    .dataframe thead th {\n",
       "        text-align: right;\n",
       "    }\n",
       "</style>\n",
       "<table border=\"1\" class=\"dataframe\">\n",
       "  <thead>\n",
       "    <tr style=\"text-align: right;\">\n",
       "      <th></th>\n",
       "      <th>train-score</th>\n",
       "      <th>test-score</th>\n",
       "    </tr>\n",
       "  </thead>\n",
       "  <tbody>\n",
       "    <tr>\n",
       "      <th>loss-function: categorical_crossentropy</th>\n",
       "      <td>0.009655</td>\n",
       "      <td>0.069892</td>\n",
       "    </tr>\n",
       "    <tr>\n",
       "      <th>metrics: accuracy</th>\n",
       "      <td>0.998917</td>\n",
       "      <td>0.978600</td>\n",
       "    </tr>\n",
       "  </tbody>\n",
       "</table>\n",
       "</div>"
      ],
      "text/plain": [
       "                                         train-score  test-score\n",
       "loss-function: categorical_crossentropy     0.009655    0.069892\n",
       "metrics: accuracy                           0.998917    0.978600"
      ]
     },
     "metadata": {},
     "output_type": "display_data"
    },
    {
     "data": {
      "text/plain": [
       "'activation function: relu'"
      ]
     },
     "metadata": {},
     "output_type": "display_data"
    },
    {
     "data": {
      "text/html": [
       "<div>\n",
       "<style scoped>\n",
       "    .dataframe tbody tr th:only-of-type {\n",
       "        vertical-align: middle;\n",
       "    }\n",
       "\n",
       "    .dataframe tbody tr th {\n",
       "        vertical-align: top;\n",
       "    }\n",
       "\n",
       "    .dataframe thead th {\n",
       "        text-align: right;\n",
       "    }\n",
       "</style>\n",
       "<table border=\"1\" class=\"dataframe\">\n",
       "  <thead>\n",
       "    <tr style=\"text-align: right;\">\n",
       "      <th></th>\n",
       "      <th>train-score</th>\n",
       "      <th>test-score</th>\n",
       "    </tr>\n",
       "  </thead>\n",
       "  <tbody>\n",
       "    <tr>\n",
       "      <th>loss-function: categorical_crossentropy</th>\n",
       "      <td>NaN</td>\n",
       "      <td>NaN</td>\n",
       "    </tr>\n",
       "    <tr>\n",
       "      <th>metrics: accuracy</th>\n",
       "      <td>0.098717</td>\n",
       "      <td>0.098</td>\n",
       "    </tr>\n",
       "  </tbody>\n",
       "</table>\n",
       "</div>"
      ],
      "text/plain": [
       "                                         train-score  test-score\n",
       "loss-function: categorical_crossentropy          NaN         NaN\n",
       "metrics: accuracy                           0.098717       0.098"
      ]
     },
     "metadata": {},
     "output_type": "display_data"
    }
   ],
   "source": [
    "for actv_func in ['tanh', 'sigmoid', 'relu']:\n",
    "    model = Sequential()\n",
    "    model.add(Dense(128, input_shape=(input_dim,), activation=actv_func))\n",
    "    model.add(Dense(64, activation=actv_func))\n",
    "    model.add(Dense(output_dim, activation=actv_func))\n",
    "\n",
    "    mtrcs = ['accuracy']\n",
    "    loss_fn = 'categorical_crossentropy'\n",
    "    model.compile(optimizer='adam', loss=loss_fn, metrics=mtrcs)\n",
    "    model.fit(X_train, Y_train, batch_size=batch_size, epochs=20, verbose=0)\n",
    "\n",
    "    train_score = model.evaluate(X_train, Y_train, verbose=0)\n",
    "    test_score = model.evaluate(X_test, Y_test, verbose=0)\n",
    "\n",
    "    scoredf = pd.DataFrame(index=[f\"loss-function: {loss_fn}\"] + [\"metrics: \" + i for i in mtrcs], \n",
    "                           columns=['train-score', 'test-score'])\n",
    "    scoredf['train-score'] = train_score\n",
    "    scoredf['test-score'] = test_score\n",
    "    display(f\"activation function: {actv_func}\",\n",
    "            scoredf)"
   ]
  },
  {
   "cell_type": "markdown",
   "metadata": {},
   "source": [
    "<span style=\"color:blue\">Sigmoid performs the best with the highest accuracy and lowest loss score for both the training and validation data.</span>"
   ]
  },
  {
   "cell_type": "markdown",
   "metadata": {},
   "source": [
    "### Model Set 2 - Loss:'hinge'"
   ]
  },
  {
   "cell_type": "code",
   "execution_count": 4,
   "metadata": {},
   "outputs": [
    {
     "data": {
      "text/plain": [
       "'activation function: tanh'"
      ]
     },
     "metadata": {},
     "output_type": "display_data"
    },
    {
     "data": {
      "text/html": [
       "<div>\n",
       "<style scoped>\n",
       "    .dataframe tbody tr th:only-of-type {\n",
       "        vertical-align: middle;\n",
       "    }\n",
       "\n",
       "    .dataframe tbody tr th {\n",
       "        vertical-align: top;\n",
       "    }\n",
       "\n",
       "    .dataframe thead th {\n",
       "        text-align: right;\n",
       "    }\n",
       "</style>\n",
       "<table border=\"1\" class=\"dataframe\">\n",
       "  <thead>\n",
       "    <tr style=\"text-align: right;\">\n",
       "      <th></th>\n",
       "      <th>train-score</th>\n",
       "      <th>test-score</th>\n",
       "    </tr>\n",
       "  </thead>\n",
       "  <tbody>\n",
       "    <tr>\n",
       "      <th>loss-function: hinge</th>\n",
       "      <td>0.157794</td>\n",
       "      <td>0.158831</td>\n",
       "    </tr>\n",
       "    <tr>\n",
       "      <th>metrics: accuracy</th>\n",
       "      <td>0.241300</td>\n",
       "      <td>0.241100</td>\n",
       "    </tr>\n",
       "  </tbody>\n",
       "</table>\n",
       "</div>"
      ],
      "text/plain": [
       "                      train-score  test-score\n",
       "loss-function: hinge     0.157794    0.158831\n",
       "metrics: accuracy        0.241300    0.241100"
      ]
     },
     "metadata": {},
     "output_type": "display_data"
    },
    {
     "data": {
      "text/plain": [
       "'activation function: sigmoid'"
      ]
     },
     "metadata": {},
     "output_type": "display_data"
    },
    {
     "data": {
      "text/html": [
       "<div>\n",
       "<style scoped>\n",
       "    .dataframe tbody tr th:only-of-type {\n",
       "        vertical-align: middle;\n",
       "    }\n",
       "\n",
       "    .dataframe tbody tr th {\n",
       "        vertical-align: top;\n",
       "    }\n",
       "\n",
       "    .dataframe thead th {\n",
       "        text-align: right;\n",
       "    }\n",
       "</style>\n",
       "<table border=\"1\" class=\"dataframe\">\n",
       "  <thead>\n",
       "    <tr style=\"text-align: right;\">\n",
       "      <th></th>\n",
       "      <th>train-score</th>\n",
       "      <th>test-score</th>\n",
       "    </tr>\n",
       "  </thead>\n",
       "  <tbody>\n",
       "    <tr>\n",
       "      <th>loss-function: hinge</th>\n",
       "      <td>1.000002</td>\n",
       "      <td>1.000002</td>\n",
       "    </tr>\n",
       "    <tr>\n",
       "      <th>metrics: accuracy</th>\n",
       "      <td>0.097517</td>\n",
       "      <td>0.097400</td>\n",
       "    </tr>\n",
       "  </tbody>\n",
       "</table>\n",
       "</div>"
      ],
      "text/plain": [
       "                      train-score  test-score\n",
       "loss-function: hinge     1.000002    1.000002\n",
       "metrics: accuracy        0.097517    0.097400"
      ]
     },
     "metadata": {},
     "output_type": "display_data"
    },
    {
     "data": {
      "text/plain": [
       "'activation function: relu'"
      ]
     },
     "metadata": {},
     "output_type": "display_data"
    },
    {
     "data": {
      "text/html": [
       "<div>\n",
       "<style scoped>\n",
       "    .dataframe tbody tr th:only-of-type {\n",
       "        vertical-align: middle;\n",
       "    }\n",
       "\n",
       "    .dataframe tbody tr th {\n",
       "        vertical-align: top;\n",
       "    }\n",
       "\n",
       "    .dataframe thead th {\n",
       "        text-align: right;\n",
       "    }\n",
       "</style>\n",
       "<table border=\"1\" class=\"dataframe\">\n",
       "  <thead>\n",
       "    <tr style=\"text-align: right;\">\n",
       "      <th></th>\n",
       "      <th>train-score</th>\n",
       "      <th>test-score</th>\n",
       "    </tr>\n",
       "  </thead>\n",
       "  <tbody>\n",
       "    <tr>\n",
       "      <th>loss-function: hinge</th>\n",
       "      <td>0.959472</td>\n",
       "      <td>0.960573</td>\n",
       "    </tr>\n",
       "    <tr>\n",
       "      <th>metrics: accuracy</th>\n",
       "      <td>0.407300</td>\n",
       "      <td>0.406300</td>\n",
       "    </tr>\n",
       "  </tbody>\n",
       "</table>\n",
       "</div>"
      ],
      "text/plain": [
       "                      train-score  test-score\n",
       "loss-function: hinge     0.959472    0.960573\n",
       "metrics: accuracy        0.407300    0.406300"
      ]
     },
     "metadata": {},
     "output_type": "display_data"
    }
   ],
   "source": [
    "for actv_func in ['tanh', 'sigmoid', 'relu']:\n",
    "    model = Sequential()\n",
    "    model.add(Dense(128, input_shape=(input_dim,), activation=actv_func))\n",
    "    model.add(Dense(64, activation=actv_func))\n",
    "    model.add(Dense(output_dim, activation=actv_func))\n",
    "\n",
    "    mtrcs = ['accuracy']\n",
    "    loss_fn = 'hinge'\n",
    "    model.compile(optimizer='adam', loss=loss_fn, metrics=mtrcs)\n",
    "    model.fit(X_train, Y_train, batch_size=batch_size, epochs=20, verbose=0)\n",
    "\n",
    "    train_score = model.evaluate(X_train, Y_train, verbose=0)\n",
    "    test_score = model.evaluate(X_test, Y_test, verbose=0)\n",
    "\n",
    "    scoredf = pd.DataFrame(index=[f\"loss-function: {loss_fn}\"] + [\"metrics: \" + i for i in mtrcs], \n",
    "                           columns=['train-score', 'test-score'])\n",
    "    scoredf['train-score'] = train_score\n",
    "    scoredf['test-score'] = test_score\n",
    "    display(f\"activation function: {actv_func}\",\n",
    "            scoredf)"
   ]
  },
  {
   "cell_type": "markdown",
   "metadata": {},
   "source": [
    "<span style=\"color:blue\">With hinge loss function, tanh has the lowest loss score and relu has the highest accuracy.  funnily enough, sigmoid which performed the best with categorical_crossentropy loss, performed the worst with hinge loss.  Across all 6 models build, sigmoid activation with categorical crossentropy performed the best.</span>"
   ]
  }
 ],
 "metadata": {
  "kernelspec": {
   "display_name": "Python 3",
   "language": "python",
   "name": "python3"
  },
  "language_info": {
   "codemirror_mode": {
    "name": "ipython",
    "version": 3
   },
   "file_extension": ".py",
   "mimetype": "text/x-python",
   "name": "python",
   "nbconvert_exporter": "python",
   "pygments_lexer": "ipython3",
   "version": "3.7.7"
  }
 },
 "nbformat": 4,
 "nbformat_minor": 2
}
