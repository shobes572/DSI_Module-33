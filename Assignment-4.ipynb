{
 "cells": [
  {
   "cell_type": "markdown",
   "metadata": {},
   "source": [
    "# Activation and Loss functions\n",
    "\n",
    "### To complete this assignment, create a Jupyter notebook containing your solutions to the following tasks:\n",
    "\n",
    "1. In this task, you'll implement several ANN models with different activation functions. Specifically:\n",
    "  1. Implement a three layer ANN model with 128, 64 and 10 neurons in the layers using tanh activation function for each layer.\n",
    "  1. Implement a three layer ANN model with 128, 64 and 10 neurons in the layers using sigmoid activation function for each layer.\n",
    "  1. Implement a three layer ANN model with 128, 64 and 10 neurons in the layers using ReLU activation function for each layer.\n",
    "  1. Compare the result of each model with each other. Which activation function did perform better?\n",
    "1. In this task, you'll implement the ANN models specified below with the hinge loss function as their loss functions:\n",
    "  1. Implement a three layer ANN model with 128, 64 and 10 neurons in the layers using tanh activation function for each layer.\n",
    "  1. Implement a three layer ANN model with 128, 64 and 10 neurons in the layers using sigmoid activation function for each layer.\n",
    "  1. Implement a three layer ANN model with 128, 64 and 10 neurons in the layers using ReLU activation function for each layer.\n",
    "  1. Compare the result of each model with the result of the same model from the previous task. Which loss function did perform better?\n",
    "\n",
    "### Lib imports and data load"
   ]
  },
  {
   "cell_type": "code",
   "execution_count": 1,
   "metadata": {},
   "outputs": [],
   "source": [
    "import numpy as np\n",
    "import pandas as pd\n",
    "import matplotlib.pyplot as plt\n",
    "\n",
    "from tensorflow.keras.datasets import mnist\n",
    "from tensorflow.keras.utils import to_categorical\n",
    "from tensorflow.keras.models import Sequential \n",
    "from tensorflow.keras.layers import Dense"
   ]
  },
  {
   "cell_type": "code",
   "execution_count": 2,
   "metadata": {},
   "outputs": [],
   "source": [
    "(X_train, y_train), (X_test, y_test) = mnist.load_data()\n",
    "\n",
    "input_dim = 784  # 28*28\n",
    "output_dim = nb_classes = 10\n",
    "batch_size = 128\n",
    "\n",
    "X_train = X_train.reshape(60000, input_dim)\n",
    "X_test = X_test.reshape(10000, input_dim)\n",
    "X_train = X_train.astype('float32')\n",
    "X_test = X_test.astype('float32')\n",
    "X_train /= 255\n",
    "X_test /= 255\n",
    "\n",
    "Y_train = to_categorical(y_train, nb_classes)\n",
    "Y_test = to_categorical(y_test, nb_classes)"
   ]
  },
  {
   "cell_type": "markdown",
   "metadata": {},
   "source": [
    "### Model Set 1 - Loss:'categorical_crossentropy'"
   ]
  },
  {
   "cell_type": "code",
   "execution_count": 5,
   "metadata": {},
   "outputs": [
    {
     "data": {
      "text/plain": [
       "'activation function: tanh'"
      ]
     },
     "metadata": {},
     "output_type": "display_data"
    },
    {
     "data": {
      "text/html": [
       "<div>\n",
       "<style scoped>\n",
       "    .dataframe tbody tr th:only-of-type {\n",
       "        vertical-align: middle;\n",
       "    }\n",
       "\n",
       "    .dataframe tbody tr th {\n",
       "        vertical-align: top;\n",
       "    }\n",
       "\n",
       "    .dataframe thead th {\n",
       "        text-align: right;\n",
       "    }\n",
       "</style>\n",
       "<table border=\"1\" class=\"dataframe\">\n",
       "  <thead>\n",
       "    <tr style=\"text-align: right;\">\n",
       "      <th></th>\n",
       "      <th>train-score</th>\n",
       "      <th>test-score</th>\n",
       "    </tr>\n",
       "  </thead>\n",
       "  <tbody>\n",
       "    <tr>\n",
       "      <th>loss-function: categorical_crossentropy</th>\n",
       "      <td>0.002787</td>\n",
       "      <td>0.081779</td>\n",
       "    </tr>\n",
       "    <tr>\n",
       "      <th>metrics: accuracy</th>\n",
       "      <td>0.999533</td>\n",
       "      <td>0.979800</td>\n",
       "    </tr>\n",
       "  </tbody>\n",
       "</table>\n",
       "</div>"
      ],
      "text/plain": [
       "                                         train-score  test-score\n",
       "loss-function: categorical_crossentropy     0.002787    0.081779\n",
       "metrics: accuracy                           0.999533    0.979800"
      ]
     },
     "metadata": {},
     "output_type": "display_data"
    },
    {
     "data": {
      "text/plain": [
       "'activation function: sigmoid'"
      ]
     },
     "metadata": {},
     "output_type": "display_data"
    },
    {
     "data": {
      "text/html": [
       "<div>\n",
       "<style scoped>\n",
       "    .dataframe tbody tr th:only-of-type {\n",
       "        vertical-align: middle;\n",
       "    }\n",
       "\n",
       "    .dataframe tbody tr th {\n",
       "        vertical-align: top;\n",
       "    }\n",
       "\n",
       "    .dataframe thead th {\n",
       "        text-align: right;\n",
       "    }\n",
       "</style>\n",
       "<table border=\"1\" class=\"dataframe\">\n",
       "  <thead>\n",
       "    <tr style=\"text-align: right;\">\n",
       "      <th></th>\n",
       "      <th>train-score</th>\n",
       "      <th>test-score</th>\n",
       "    </tr>\n",
       "  </thead>\n",
       "  <tbody>\n",
       "    <tr>\n",
       "      <th>loss-function: categorical_crossentropy</th>\n",
       "      <td>0.011719</td>\n",
       "      <td>0.071134</td>\n",
       "    </tr>\n",
       "    <tr>\n",
       "      <th>metrics: accuracy</th>\n",
       "      <td>0.998200</td>\n",
       "      <td>0.979100</td>\n",
       "    </tr>\n",
       "  </tbody>\n",
       "</table>\n",
       "</div>"
      ],
      "text/plain": [
       "                                         train-score  test-score\n",
       "loss-function: categorical_crossentropy     0.011719    0.071134\n",
       "metrics: accuracy                           0.998200    0.979100"
      ]
     },
     "metadata": {},
     "output_type": "display_data"
    },
    {
     "data": {
      "text/plain": [
       "'activation function: relu'"
      ]
     },
     "metadata": {},
     "output_type": "display_data"
    },
    {
     "data": {
      "text/html": [
       "<div>\n",
       "<style scoped>\n",
       "    .dataframe tbody tr th:only-of-type {\n",
       "        vertical-align: middle;\n",
       "    }\n",
       "\n",
       "    .dataframe tbody tr th {\n",
       "        vertical-align: top;\n",
       "    }\n",
       "\n",
       "    .dataframe thead th {\n",
       "        text-align: right;\n",
       "    }\n",
       "</style>\n",
       "<table border=\"1\" class=\"dataframe\">\n",
       "  <thead>\n",
       "    <tr style=\"text-align: right;\">\n",
       "      <th></th>\n",
       "      <th>train-score</th>\n",
       "      <th>test-score</th>\n",
       "    </tr>\n",
       "  </thead>\n",
       "  <tbody>\n",
       "    <tr>\n",
       "      <th>loss-function: categorical_crossentropy</th>\n",
       "      <td>0.010032</td>\n",
       "      <td>0.103939</td>\n",
       "    </tr>\n",
       "    <tr>\n",
       "      <th>metrics: accuracy</th>\n",
       "      <td>0.996750</td>\n",
       "      <td>0.979100</td>\n",
       "    </tr>\n",
       "  </tbody>\n",
       "</table>\n",
       "</div>"
      ],
      "text/plain": [
       "                                         train-score  test-score\n",
       "loss-function: categorical_crossentropy     0.010032    0.103939\n",
       "metrics: accuracy                           0.996750    0.979100"
      ]
     },
     "metadata": {},
     "output_type": "display_data"
    }
   ],
   "source": [
    "for actv_func in ['tanh', 'sigmoid', 'relu']:\n",
    "    model = Sequential()\n",
    "    model.add(Dense(128, input_shape=(input_dim,), activation=actv_func))\n",
    "    model.add(Dense(64, activation=actv_func))\n",
    "    model.add(Dense(output_dim, activation='softmax'))\n",
    "\n",
    "    mtrcs = ['accuracy']\n",
    "    loss_fn = 'categorical_crossentropy'\n",
    "    model.compile(optimizer='adam', loss=loss_fn, metrics=mtrcs)\n",
    "    model.fit(X_train, Y_train, batch_size=batch_size, epochs=20, verbose=0)\n",
    "\n",
    "    train_score = model.evaluate(X_train, Y_train, verbose=0)\n",
    "    test_score = model.evaluate(X_test, Y_test, verbose=0)\n",
    "\n",
    "    scoredf = pd.DataFrame(index=[f\"loss-function: {loss_fn}\"] + [\"metrics: \" + i for i in mtrcs], \n",
    "                           columns=['train-score', 'test-score'])\n",
    "    scoredf['train-score'] = train_score\n",
    "    scoredf['test-score'] = test_score\n",
    "    display(f\"activation function: {actv_func}\",\n",
    "            scoredf)"
   ]
  },
  {
   "cell_type": "markdown",
   "metadata": {},
   "source": [
    "<span style=\"color:blue\">tanh performs the best with the highest accuracy and lowest loss score for both the training and validation data.</span>"
   ]
  },
  {
   "cell_type": "markdown",
   "metadata": {},
   "source": [
    "### Model Set 2 - Loss:'hinge'"
   ]
  },
  {
   "cell_type": "code",
   "execution_count": 6,
   "metadata": {},
   "outputs": [
    {
     "data": {
      "text/plain": [
       "'activation function: tanh'"
      ]
     },
     "metadata": {},
     "output_type": "display_data"
    },
    {
     "data": {
      "text/html": [
       "<div>\n",
       "<style scoped>\n",
       "    .dataframe tbody tr th:only-of-type {\n",
       "        vertical-align: middle;\n",
       "    }\n",
       "\n",
       "    .dataframe tbody tr th {\n",
       "        vertical-align: top;\n",
       "    }\n",
       "\n",
       "    .dataframe thead th {\n",
       "        text-align: right;\n",
       "    }\n",
       "</style>\n",
       "<table border=\"1\" class=\"dataframe\">\n",
       "  <thead>\n",
       "    <tr style=\"text-align: right;\">\n",
       "      <th></th>\n",
       "      <th>train-score</th>\n",
       "      <th>test-score</th>\n",
       "    </tr>\n",
       "  </thead>\n",
       "  <tbody>\n",
       "    <tr>\n",
       "      <th>loss-function: hinge</th>\n",
       "      <td>0.901752</td>\n",
       "      <td>0.904703</td>\n",
       "    </tr>\n",
       "    <tr>\n",
       "      <th>metrics: accuracy</th>\n",
       "      <td>0.991967</td>\n",
       "      <td>0.977500</td>\n",
       "    </tr>\n",
       "  </tbody>\n",
       "</table>\n",
       "</div>"
      ],
      "text/plain": [
       "                      train-score  test-score\n",
       "loss-function: hinge     0.901752    0.904703\n",
       "metrics: accuracy        0.991967    0.977500"
      ]
     },
     "metadata": {},
     "output_type": "display_data"
    },
    {
     "data": {
      "text/plain": [
       "'activation function: sigmoid'"
      ]
     },
     "metadata": {},
     "output_type": "display_data"
    },
    {
     "data": {
      "text/html": [
       "<div>\n",
       "<style scoped>\n",
       "    .dataframe tbody tr th:only-of-type {\n",
       "        vertical-align: middle;\n",
       "    }\n",
       "\n",
       "    .dataframe tbody tr th {\n",
       "        vertical-align: top;\n",
       "    }\n",
       "\n",
       "    .dataframe thead th {\n",
       "        text-align: right;\n",
       "    }\n",
       "</style>\n",
       "<table border=\"1\" class=\"dataframe\">\n",
       "  <thead>\n",
       "    <tr style=\"text-align: right;\">\n",
       "      <th></th>\n",
       "      <th>train-score</th>\n",
       "      <th>test-score</th>\n",
       "    </tr>\n",
       "  </thead>\n",
       "  <tbody>\n",
       "    <tr>\n",
       "      <th>loss-function: hinge</th>\n",
       "      <td>0.902625</td>\n",
       "      <td>0.905489</td>\n",
       "    </tr>\n",
       "    <tr>\n",
       "      <th>metrics: accuracy</th>\n",
       "      <td>0.988567</td>\n",
       "      <td>0.974900</td>\n",
       "    </tr>\n",
       "  </tbody>\n",
       "</table>\n",
       "</div>"
      ],
      "text/plain": [
       "                      train-score  test-score\n",
       "loss-function: hinge     0.902625    0.905489\n",
       "metrics: accuracy        0.988567    0.974900"
      ]
     },
     "metadata": {},
     "output_type": "display_data"
    },
    {
     "data": {
      "text/plain": [
       "'activation function: relu'"
      ]
     },
     "metadata": {},
     "output_type": "display_data"
    },
    {
     "data": {
      "text/html": [
       "<div>\n",
       "<style scoped>\n",
       "    .dataframe tbody tr th:only-of-type {\n",
       "        vertical-align: middle;\n",
       "    }\n",
       "\n",
       "    .dataframe tbody tr th {\n",
       "        vertical-align: top;\n",
       "    }\n",
       "\n",
       "    .dataframe thead th {\n",
       "        text-align: right;\n",
       "    }\n",
       "</style>\n",
       "<table border=\"1\" class=\"dataframe\">\n",
       "  <thead>\n",
       "    <tr style=\"text-align: right;\">\n",
       "      <th></th>\n",
       "      <th>train-score</th>\n",
       "      <th>test-score</th>\n",
       "    </tr>\n",
       "  </thead>\n",
       "  <tbody>\n",
       "    <tr>\n",
       "      <th>loss-function: hinge</th>\n",
       "      <td>0.902138</td>\n",
       "      <td>0.905119</td>\n",
       "    </tr>\n",
       "    <tr>\n",
       "      <th>metrics: accuracy</th>\n",
       "      <td>0.989967</td>\n",
       "      <td>0.975000</td>\n",
       "    </tr>\n",
       "  </tbody>\n",
       "</table>\n",
       "</div>"
      ],
      "text/plain": [
       "                      train-score  test-score\n",
       "loss-function: hinge     0.902138    0.905119\n",
       "metrics: accuracy        0.989967    0.975000"
      ]
     },
     "metadata": {},
     "output_type": "display_data"
    }
   ],
   "source": [
    "for actv_func in ['tanh', 'sigmoid', 'relu']:\n",
    "    model = Sequential()\n",
    "    model.add(Dense(128, input_shape=(input_dim,), activation=actv_func))\n",
    "    model.add(Dense(64, activation=actv_func))\n",
    "    model.add(Dense(output_dim, activation='softmax'))\n",
    "\n",
    "    mtrcs = ['accuracy']\n",
    "    loss_fn = 'hinge'\n",
    "    model.compile(optimizer='adam', loss=loss_fn, metrics=mtrcs)\n",
    "    model.fit(X_train, Y_train, batch_size=batch_size, epochs=20, verbose=0)\n",
    "\n",
    "    train_score = model.evaluate(X_train, Y_train, verbose=0)\n",
    "    test_score = model.evaluate(X_test, Y_test, verbose=0)\n",
    "\n",
    "    scoredf = pd.DataFrame(index=[f\"loss-function: {loss_fn}\"] + [\"metrics: \" + i for i in mtrcs], \n",
    "                           columns=['train-score', 'test-score'])\n",
    "    scoredf['train-score'] = train_score\n",
    "    scoredf['test-score'] = test_score\n",
    "    display(f\"activation function: {actv_func}\",\n",
    "            scoredf)"
   ]
  },
  {
   "cell_type": "markdown",
   "metadata": {},
   "source": [
    "<span style=\"color:blue\">With hinge loss function, tanh has the lowest loss score and the highest accuracy.  In general, for the type of data we have, categorical crossentropy performs the best.  Across all 6 models build, tanh activation with categorical crossentropy performed the best.</span>"
   ]
  }
 ],
 "metadata": {
  "kernelspec": {
   "display_name": "Python 3",
   "language": "python",
   "name": "python3"
  },
  "language_info": {
   "codemirror_mode": {
    "name": "ipython",
    "version": 3
   },
   "file_extension": ".py",
   "mimetype": "text/x-python",
   "name": "python",
   "nbconvert_exporter": "python",
   "pygments_lexer": "ipython3",
   "version": "3.7.7"
  }
 },
 "nbformat": 4,
 "nbformat_minor": 2
}
